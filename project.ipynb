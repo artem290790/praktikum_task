{
 "cells": [
  {
   "cell_type": "markdown",
   "metadata": {
    "toc": true
   },
   "source": [
    "<h1>Содержание<span class=\"tocSkip\"></span></h1>\n",
    "<div class=\"toc\"><ul class=\"toc-item\"><li><span><a href=\"#Описание-данных\" data-toc-modified-id=\"Описание-данных-1\"><span class=\"toc-item-num\">1&nbsp;&nbsp;</span>Описание данных</a></span><ul class=\"toc-item\"><li><span><a href=\"#Признаки\" data-toc-modified-id=\"Признаки-1.1\"><span class=\"toc-item-num\">1.1&nbsp;&nbsp;</span>Признаки</a></span></li><li><span><a href=\"#Целевой-признак\" data-toc-modified-id=\"Целевой-признак-1.2\"><span class=\"toc-item-num\">1.2&nbsp;&nbsp;</span>Целевой признак</a></span></li></ul></li><li><span><a href=\"#Подготовка-данных\" data-toc-modified-id=\"Подготовка-данных-2\"><span class=\"toc-item-num\">2&nbsp;&nbsp;</span>Подготовка данных</a></span><ul class=\"toc-item\"><li><span><a href=\"#Подготовка-данных-выводы\" data-toc-modified-id=\"Подготовка-данных-выводы-2.1\"><span class=\"toc-item-num\">2.1&nbsp;&nbsp;</span>Подготовка данных выводы</a></span></li></ul></li><li><span><a href=\"#Исследование-задачи\" data-toc-modified-id=\"Исследование-задачи-3\"><span class=\"toc-item-num\">3&nbsp;&nbsp;</span>Исследование задачи</a></span></li><li><span><a href=\"#Борьба-с-дисбалансом\" data-toc-modified-id=\"Борьба-с-дисбалансом-4\"><span class=\"toc-item-num\">4&nbsp;&nbsp;</span>Борьба с дисбалансом</a></span></li><li><span><a href=\"#Тестирование-модели\" data-toc-modified-id=\"Тестирование-модели-5\"><span class=\"toc-item-num\">5&nbsp;&nbsp;</span>Тестирование модели</a></span></li><li><span><a href=\"#Чек-лист-готовности-проекта\" data-toc-modified-id=\"Чек-лист-готовности-проекта-6\"><span class=\"toc-item-num\">6&nbsp;&nbsp;</span>Чек-лист готовности проекта</a></span></li></ul></div>"
   ]
  },
  {
   "cell_type": "markdown",
   "metadata": {},
   "source": [
    "# Отток клиентов"
   ]
  },
  {
   "cell_type": "markdown",
   "metadata": {},
   "source": [
    "Из «Бета-Банка» стали уходить клиенты. Каждый месяц. Немного, но заметно. Банковские маркетологи посчитали: сохранять текущих клиентов дешевле, чем привлекать новых.\n",
    "\n",
    "Нужно спрогнозировать, уйдёт клиент из банка в ближайшее время или нет. Вам предоставлены исторические данные о поведении клиентов и расторжении договоров с банком. \n",
    "\n",
    "Постройте модель с предельно большим значением *F1*-меры. Чтобы сдать проект успешно, нужно довести метрику до 0.59. Проверьте *F1*-меру на тестовой выборке самостоятельно.\n",
    "\n",
    "Дополнительно измеряйте *AUC-ROC*, сравнивайте её значение с *F1*-мерой.\n",
    "\n",
    "Источник данных: [https://www.kaggle.com/barelydedicated/bank-customer-churn-modeling](https://www.kaggle.com/barelydedicated/bank-customer-churn-modeling)"
   ]
  },
  {
   "cell_type": "markdown",
   "metadata": {},
   "source": [
    "## Описание данных"
   ]
  },
  {
   "cell_type": "markdown",
   "metadata": {},
   "source": [
    "### Признаки \n",
    "• RowNumber — индекс строки в данных <br>\n",
    "• CustomerId — уникальный идентификатор клиента <br>\n",
    "• Surname — фамилия<br>\n",
    "• CreditScore — кредитный рейтинг<br>\n",
    "• Geography — страна проживания<br>\n",
    "• Gender — пол<br>\n",
    "• Age — возраст<br>\n",
    "• Tenure — сколько лет человек является клиентом банка<br>\n",
    "• Balance — баланс на счёте<br>\n",
    "• NumOfProducts — количество продуктов банка, используемых клиентом<br>\n",
    "• HasCrCard — наличие кредитной карты<br>\n",
    "• IsActiveMember — активность клиента<br>\n",
    "• EstimatedSalary — предполагаемая зарплата<br>\n",
    "\n",
    "### Целевой признак\n",
    "Exited — факт ухода клиента"
   ]
  },
  {
   "cell_type": "markdown",
   "metadata": {},
   "source": [
    "## Подготовка данных"
   ]
  },
  {
   "cell_type": "code",
   "execution_count": 1,
   "metadata": {},
   "outputs": [],
   "source": [
    "!python3 -m venv venv\n",
    "!source venv/bin/activate\n",
    "!pip install -r requirements.txt -q"
   ]
  },
  {
   "cell_type": "code",
   "execution_count": 2,
   "metadata": {},
   "outputs": [],
   "source": [
    "import pandas as pd\n",
    "import numpy as np\n",
    "import seaborn as sns\n",
    "import matplotlib.pyplot as plt\n",
    "from sklearn.model_selection import train_test_split\n",
    "from sklearn.ensemble import RandomForestClassifier\n",
    "from sklearn.preprocessing import StandardScaler \n",
    "from sklearn.metrics import roc_auc_score, f1_score, recall_score, precision_score, accuracy_score\n",
    "from imblearn.over_sampling import SMOTE\n",
    "\n",
    "import warnings\n",
    "warnings.filterwarnings(\"ignore\")"
   ]
  },
  {
   "cell_type": "code",
   "execution_count": 3,
   "metadata": {},
   "outputs": [
    {
     "data": {
      "text/html": [
       "<div>\n",
       "<style scoped>\n",
       "    .dataframe tbody tr th:only-of-type {\n",
       "        vertical-align: middle;\n",
       "    }\n",
       "\n",
       "    .dataframe tbody tr th {\n",
       "        vertical-align: top;\n",
       "    }\n",
       "\n",
       "    .dataframe thead th {\n",
       "        text-align: right;\n",
       "    }\n",
       "</style>\n",
       "<table border=\"1\" class=\"dataframe\">\n",
       "  <thead>\n",
       "    <tr style=\"text-align: right;\">\n",
       "      <th></th>\n",
       "      <th>CustomerId</th>\n",
       "      <th>Surname</th>\n",
       "      <th>CreditScore</th>\n",
       "      <th>Geography</th>\n",
       "      <th>Gender</th>\n",
       "      <th>Age</th>\n",
       "      <th>Tenure</th>\n",
       "      <th>Balance</th>\n",
       "      <th>NumOfProducts</th>\n",
       "      <th>HasCrCard</th>\n",
       "      <th>IsActiveMember</th>\n",
       "      <th>EstimatedSalary</th>\n",
       "      <th>Exited</th>\n",
       "    </tr>\n",
       "  </thead>\n",
       "  <tbody>\n",
       "    <tr>\n",
       "      <th>0</th>\n",
       "      <td>15634602</td>\n",
       "      <td>Hargrave</td>\n",
       "      <td>619</td>\n",
       "      <td>France</td>\n",
       "      <td>Female</td>\n",
       "      <td>42</td>\n",
       "      <td>2.0</td>\n",
       "      <td>0.00</td>\n",
       "      <td>1</td>\n",
       "      <td>1</td>\n",
       "      <td>1</td>\n",
       "      <td>101348.88</td>\n",
       "      <td>1</td>\n",
       "    </tr>\n",
       "    <tr>\n",
       "      <th>1</th>\n",
       "      <td>15647311</td>\n",
       "      <td>Hill</td>\n",
       "      <td>608</td>\n",
       "      <td>Spain</td>\n",
       "      <td>Female</td>\n",
       "      <td>41</td>\n",
       "      <td>1.0</td>\n",
       "      <td>83807.86</td>\n",
       "      <td>1</td>\n",
       "      <td>0</td>\n",
       "      <td>1</td>\n",
       "      <td>112542.58</td>\n",
       "      <td>0</td>\n",
       "    </tr>\n",
       "    <tr>\n",
       "      <th>2</th>\n",
       "      <td>15619304</td>\n",
       "      <td>Onio</td>\n",
       "      <td>502</td>\n",
       "      <td>France</td>\n",
       "      <td>Female</td>\n",
       "      <td>42</td>\n",
       "      <td>8.0</td>\n",
       "      <td>159660.80</td>\n",
       "      <td>3</td>\n",
       "      <td>1</td>\n",
       "      <td>0</td>\n",
       "      <td>113931.57</td>\n",
       "      <td>1</td>\n",
       "    </tr>\n",
       "    <tr>\n",
       "      <th>3</th>\n",
       "      <td>15701354</td>\n",
       "      <td>Boni</td>\n",
       "      <td>699</td>\n",
       "      <td>France</td>\n",
       "      <td>Female</td>\n",
       "      <td>39</td>\n",
       "      <td>1.0</td>\n",
       "      <td>0.00</td>\n",
       "      <td>2</td>\n",
       "      <td>0</td>\n",
       "      <td>0</td>\n",
       "      <td>93826.63</td>\n",
       "      <td>0</td>\n",
       "    </tr>\n",
       "    <tr>\n",
       "      <th>4</th>\n",
       "      <td>15737888</td>\n",
       "      <td>Mitchell</td>\n",
       "      <td>850</td>\n",
       "      <td>Spain</td>\n",
       "      <td>Female</td>\n",
       "      <td>43</td>\n",
       "      <td>2.0</td>\n",
       "      <td>125510.82</td>\n",
       "      <td>1</td>\n",
       "      <td>1</td>\n",
       "      <td>1</td>\n",
       "      <td>79084.10</td>\n",
       "      <td>0</td>\n",
       "    </tr>\n",
       "  </tbody>\n",
       "</table>\n",
       "</div>"
      ],
      "text/plain": [
       "   CustomerId   Surname  CreditScore Geography  Gender  Age  Tenure  \\\n",
       "0    15634602  Hargrave          619    France  Female   42     2.0   \n",
       "1    15647311      Hill          608     Spain  Female   41     1.0   \n",
       "2    15619304      Onio          502    France  Female   42     8.0   \n",
       "3    15701354      Boni          699    France  Female   39     1.0   \n",
       "4    15737888  Mitchell          850     Spain  Female   43     2.0   \n",
       "\n",
       "     Balance  NumOfProducts  HasCrCard  IsActiveMember  EstimatedSalary  \\\n",
       "0       0.00              1          1               1        101348.88   \n",
       "1   83807.86              1          0               1        112542.58   \n",
       "2  159660.80              3          1               0        113931.57   \n",
       "3       0.00              2          0               0         93826.63   \n",
       "4  125510.82              1          1               1         79084.10   \n",
       "\n",
       "   Exited  \n",
       "0       1  \n",
       "1       0  \n",
       "2       1  \n",
       "3       0  \n",
       "4       0  "
      ]
     },
     "execution_count": 3,
     "metadata": {},
     "output_type": "execute_result"
    }
   ],
   "source": [
    "data = pd.read_csv('https://code.s3.yandex.net/datasets/Churn.csv').drop(columns = ['RowNumber'])\n",
    "data.head()"
   ]
  },
  {
   "cell_type": "markdown",
   "metadata": {},
   "source": [
    "Вообще говоря ни Surname, ни CustomerId не несут никаких данных об объекте, а нужны лишь для наименования объектов. Поэтому при дальнейшем анализе их стоит исключить. Единственное, что стоит проверить, что у нас одному CustomerId соответствует ровно один объект. Для этого сгруппируем по CustomerId, подсчитаем количество объектов для каждого CustomerId и возьмем среднее. "
   ]
  },
  {
   "cell_type": "code",
   "execution_count": 4,
   "metadata": {},
   "outputs": [
    {
     "data": {
      "text/plain": [
       "Gender    1.0\n",
       "dtype: float64"
      ]
     },
     "execution_count": 4,
     "metadata": {},
     "output_type": "execute_result"
    }
   ],
   "source": [
    "data.groupby(by = 'CustomerId').agg({'Gender': 'count'}).mean()"
   ]
  },
  {
   "cell_type": "markdown",
   "metadata": {},
   "source": [
    "Действительно, каждому CustomerId соответствует один объект. "
   ]
  },
  {
   "cell_type": "code",
   "execution_count": 5,
   "metadata": {},
   "outputs": [
    {
     "data": {
      "text/html": [
       "<div>\n",
       "<style scoped>\n",
       "    .dataframe tbody tr th:only-of-type {\n",
       "        vertical-align: middle;\n",
       "    }\n",
       "\n",
       "    .dataframe tbody tr th {\n",
       "        vertical-align: top;\n",
       "    }\n",
       "\n",
       "    .dataframe thead th {\n",
       "        text-align: right;\n",
       "    }\n",
       "</style>\n",
       "<table border=\"1\" class=\"dataframe\">\n",
       "  <thead>\n",
       "    <tr style=\"text-align: right;\">\n",
       "      <th></th>\n",
       "      <th>CreditScore</th>\n",
       "      <th>Geography</th>\n",
       "      <th>Gender</th>\n",
       "      <th>Age</th>\n",
       "      <th>Tenure</th>\n",
       "      <th>Balance</th>\n",
       "      <th>NumOfProducts</th>\n",
       "      <th>HasCrCard</th>\n",
       "      <th>IsActiveMember</th>\n",
       "      <th>EstimatedSalary</th>\n",
       "      <th>Exited</th>\n",
       "    </tr>\n",
       "  </thead>\n",
       "  <tbody>\n",
       "    <tr>\n",
       "      <th>0</th>\n",
       "      <td>619</td>\n",
       "      <td>France</td>\n",
       "      <td>Female</td>\n",
       "      <td>42</td>\n",
       "      <td>2.0</td>\n",
       "      <td>0.00</td>\n",
       "      <td>1</td>\n",
       "      <td>1</td>\n",
       "      <td>1</td>\n",
       "      <td>101348.88</td>\n",
       "      <td>1</td>\n",
       "    </tr>\n",
       "    <tr>\n",
       "      <th>1</th>\n",
       "      <td>608</td>\n",
       "      <td>Spain</td>\n",
       "      <td>Female</td>\n",
       "      <td>41</td>\n",
       "      <td>1.0</td>\n",
       "      <td>83807.86</td>\n",
       "      <td>1</td>\n",
       "      <td>0</td>\n",
       "      <td>1</td>\n",
       "      <td>112542.58</td>\n",
       "      <td>0</td>\n",
       "    </tr>\n",
       "    <tr>\n",
       "      <th>2</th>\n",
       "      <td>502</td>\n",
       "      <td>France</td>\n",
       "      <td>Female</td>\n",
       "      <td>42</td>\n",
       "      <td>8.0</td>\n",
       "      <td>159660.80</td>\n",
       "      <td>3</td>\n",
       "      <td>1</td>\n",
       "      <td>0</td>\n",
       "      <td>113931.57</td>\n",
       "      <td>1</td>\n",
       "    </tr>\n",
       "    <tr>\n",
       "      <th>3</th>\n",
       "      <td>699</td>\n",
       "      <td>France</td>\n",
       "      <td>Female</td>\n",
       "      <td>39</td>\n",
       "      <td>1.0</td>\n",
       "      <td>0.00</td>\n",
       "      <td>2</td>\n",
       "      <td>0</td>\n",
       "      <td>0</td>\n",
       "      <td>93826.63</td>\n",
       "      <td>0</td>\n",
       "    </tr>\n",
       "    <tr>\n",
       "      <th>4</th>\n",
       "      <td>850</td>\n",
       "      <td>Spain</td>\n",
       "      <td>Female</td>\n",
       "      <td>43</td>\n",
       "      <td>2.0</td>\n",
       "      <td>125510.82</td>\n",
       "      <td>1</td>\n",
       "      <td>1</td>\n",
       "      <td>1</td>\n",
       "      <td>79084.10</td>\n",
       "      <td>0</td>\n",
       "    </tr>\n",
       "  </tbody>\n",
       "</table>\n",
       "</div>"
      ],
      "text/plain": [
       "   CreditScore Geography  Gender  Age  Tenure    Balance  NumOfProducts  \\\n",
       "0          619    France  Female   42     2.0       0.00              1   \n",
       "1          608     Spain  Female   41     1.0   83807.86              1   \n",
       "2          502    France  Female   42     8.0  159660.80              3   \n",
       "3          699    France  Female   39     1.0       0.00              2   \n",
       "4          850     Spain  Female   43     2.0  125510.82              1   \n",
       "\n",
       "   HasCrCard  IsActiveMember  EstimatedSalary  Exited  \n",
       "0          1               1        101348.88       1  \n",
       "1          0               1        112542.58       0  \n",
       "2          1               0        113931.57       1  \n",
       "3          0               0         93826.63       0  \n",
       "4          1               1         79084.10       0  "
      ]
     },
     "execution_count": 5,
     "metadata": {},
     "output_type": "execute_result"
    }
   ],
   "source": [
    "data = data.drop(columns = ['CustomerId', 'Surname'])\n",
    "data.head()"
   ]
  },
  {
   "cell_type": "markdown",
   "metadata": {},
   "source": [
    "Изучим наличие пропусков в данных "
   ]
  },
  {
   "cell_type": "code",
   "execution_count": 6,
   "metadata": {},
   "outputs": [
    {
     "name": "stdout",
     "output_type": "stream",
     "text": [
      "<class 'pandas.core.frame.DataFrame'>\n",
      "RangeIndex: 10000 entries, 0 to 9999\n",
      "Data columns (total 11 columns):\n",
      " #   Column           Non-Null Count  Dtype  \n",
      "---  ------           --------------  -----  \n",
      " 0   CreditScore      10000 non-null  int64  \n",
      " 1   Geography        10000 non-null  object \n",
      " 2   Gender           10000 non-null  object \n",
      " 3   Age              10000 non-null  int64  \n",
      " 4   Tenure           9091 non-null   float64\n",
      " 5   Balance          10000 non-null  float64\n",
      " 6   NumOfProducts    10000 non-null  int64  \n",
      " 7   HasCrCard        10000 non-null  int64  \n",
      " 8   IsActiveMember   10000 non-null  int64  \n",
      " 9   EstimatedSalary  10000 non-null  float64\n",
      " 10  Exited           10000 non-null  int64  \n",
      "dtypes: float64(3), int64(6), object(2)\n",
      "memory usage: 859.5+ KB\n"
     ]
    }
   ],
   "source": [
    "data.info()"
   ]
  },
  {
   "cell_type": "markdown",
   "metadata": {},
   "source": [
    "Мы имеем 909 пропусков в графе Tenure (сколько лет человек является клиентом банка). \n",
    "\n",
    "Как мы можем поступить с этими пропусками?\n",
    "\n",
    "1. Выяснить причины пропусков и закрыть на основании данных причин (выходит за рамки данной задачи, по имеющимся данным установить достоверно причины невозможно). <em> В дальнейшем будет показано, что проблема может быть в том, что в поле Tenure невозможно внести числа большие 10 и часть людей оставляет это поле пустым или вводит 10. </em>\n",
    "2. Удалить строки с пропусками (в силу относительно небольшого числа пропусков это можно сделать). Но таким образом мы потеряем часть данных\n",
    "3. Заменить средним/медианой по всей выборке или с учетом структуры данных (например, если бы у нас был датасет с зарплатами сотрудников и категориями специалист/менеджер/топменеджер, у которых зарплаты существенно отличаются, и были бы пропуски в графе \"зарплаты\", то логично было бы заменять средней/медианой по конкретной категории). Такой способ неплохо подходит для анализа зависимостей в данных, но может ухудшить качество модели"
   ]
  },
  {
   "cell_type": "markdown",
   "metadata": {},
   "source": [
    "Реализуем пункт 2"
   ]
  },
  {
   "cell_type": "code",
   "execution_count": 7,
   "metadata": {},
   "outputs": [],
   "source": [
    "data.dropna(inplace = True)"
   ]
  },
  {
   "cell_type": "code",
   "execution_count": 8,
   "metadata": {},
   "outputs": [
    {
     "name": "stdout",
     "output_type": "stream",
     "text": [
      "<class 'pandas.core.frame.DataFrame'>\n",
      "Index: 9091 entries, 0 to 9998\n",
      "Data columns (total 11 columns):\n",
      " #   Column           Non-Null Count  Dtype  \n",
      "---  ------           --------------  -----  \n",
      " 0   CreditScore      9091 non-null   int64  \n",
      " 1   Geography        9091 non-null   object \n",
      " 2   Gender           9091 non-null   object \n",
      " 3   Age              9091 non-null   int64  \n",
      " 4   Tenure           9091 non-null   float64\n",
      " 5   Balance          9091 non-null   float64\n",
      " 6   NumOfProducts    9091 non-null   int64  \n",
      " 7   HasCrCard        9091 non-null   int64  \n",
      " 8   IsActiveMember   9091 non-null   int64  \n",
      " 9   EstimatedSalary  9091 non-null   float64\n",
      " 10  Exited           9091 non-null   int64  \n",
      "dtypes: float64(3), int64(6), object(2)\n",
      "memory usage: 852.3+ KB\n"
     ]
    }
   ],
   "source": [
    "data.info()"
   ]
  },
  {
   "cell_type": "markdown",
   "metadata": {},
   "source": [
    "Посмотрим на наши признаки более подробно. У нас есть числовые признаки CreditScore, Age, Tenure, Balance, NumOfProducts, EstimatedSalary, категориальные признаки Geography, Gender, HasCrCard, IsActiveMember"
   ]
  },
  {
   "cell_type": "code",
   "execution_count": 9,
   "metadata": {},
   "outputs": [],
   "source": [
    "numeric = ['CreditScore', 'Age', 'Tenure', 'Balance', 'NumOfProducts', 'EstimatedSalary']"
   ]
  },
  {
   "cell_type": "markdown",
   "metadata": {},
   "source": [
    "Подробнее изучим распределение категориальных и числовых признаков, а также посмотрим, насколько сбалансирован таргет."
   ]
  },
  {
   "cell_type": "code",
   "execution_count": 10,
   "metadata": {},
   "outputs": [
    {
     "data": {
      "text/html": [
       "<div>\n",
       "<style scoped>\n",
       "    .dataframe tbody tr th:only-of-type {\n",
       "        vertical-align: middle;\n",
       "    }\n",
       "\n",
       "    .dataframe tbody tr th {\n",
       "        vertical-align: top;\n",
       "    }\n",
       "\n",
       "    .dataframe thead th {\n",
       "        text-align: right;\n",
       "    }\n",
       "</style>\n",
       "<table border=\"1\" class=\"dataframe\">\n",
       "  <thead>\n",
       "    <tr style=\"text-align: right;\">\n",
       "      <th></th>\n",
       "      <th>count</th>\n",
       "      <th>unique</th>\n",
       "      <th>top</th>\n",
       "      <th>freq</th>\n",
       "      <th>mean</th>\n",
       "      <th>std</th>\n",
       "      <th>min</th>\n",
       "      <th>25%</th>\n",
       "      <th>50%</th>\n",
       "      <th>75%</th>\n",
       "      <th>max</th>\n",
       "    </tr>\n",
       "  </thead>\n",
       "  <tbody>\n",
       "    <tr>\n",
       "      <th>CreditScore</th>\n",
       "      <td>9091.0</td>\n",
       "      <td>NaN</td>\n",
       "      <td>NaN</td>\n",
       "      <td>NaN</td>\n",
       "      <td>650.736553</td>\n",
       "      <td>96.410471</td>\n",
       "      <td>350.0</td>\n",
       "      <td>584.0</td>\n",
       "      <td>652.0</td>\n",
       "      <td>717.0</td>\n",
       "      <td>850.0</td>\n",
       "    </tr>\n",
       "    <tr>\n",
       "      <th>Geography</th>\n",
       "      <td>9091</td>\n",
       "      <td>3</td>\n",
       "      <td>France</td>\n",
       "      <td>4550</td>\n",
       "      <td>NaN</td>\n",
       "      <td>NaN</td>\n",
       "      <td>NaN</td>\n",
       "      <td>NaN</td>\n",
       "      <td>NaN</td>\n",
       "      <td>NaN</td>\n",
       "      <td>NaN</td>\n",
       "    </tr>\n",
       "    <tr>\n",
       "      <th>Gender</th>\n",
       "      <td>9091</td>\n",
       "      <td>2</td>\n",
       "      <td>Male</td>\n",
       "      <td>4974</td>\n",
       "      <td>NaN</td>\n",
       "      <td>NaN</td>\n",
       "      <td>NaN</td>\n",
       "      <td>NaN</td>\n",
       "      <td>NaN</td>\n",
       "      <td>NaN</td>\n",
       "      <td>NaN</td>\n",
       "    </tr>\n",
       "    <tr>\n",
       "      <th>Age</th>\n",
       "      <td>9091.0</td>\n",
       "      <td>NaN</td>\n",
       "      <td>NaN</td>\n",
       "      <td>NaN</td>\n",
       "      <td>38.949181</td>\n",
       "      <td>10.555581</td>\n",
       "      <td>18.0</td>\n",
       "      <td>32.0</td>\n",
       "      <td>37.0</td>\n",
       "      <td>44.0</td>\n",
       "      <td>92.0</td>\n",
       "    </tr>\n",
       "    <tr>\n",
       "      <th>Tenure</th>\n",
       "      <td>9091.0</td>\n",
       "      <td>NaN</td>\n",
       "      <td>NaN</td>\n",
       "      <td>NaN</td>\n",
       "      <td>4.99769</td>\n",
       "      <td>2.894723</td>\n",
       "      <td>0.0</td>\n",
       "      <td>2.0</td>\n",
       "      <td>5.0</td>\n",
       "      <td>7.0</td>\n",
       "      <td>10.0</td>\n",
       "    </tr>\n",
       "    <tr>\n",
       "      <th>Balance</th>\n",
       "      <td>9091.0</td>\n",
       "      <td>NaN</td>\n",
       "      <td>NaN</td>\n",
       "      <td>NaN</td>\n",
       "      <td>76522.740015</td>\n",
       "      <td>62329.528576</td>\n",
       "      <td>0.0</td>\n",
       "      <td>0.0</td>\n",
       "      <td>97318.25</td>\n",
       "      <td>127561.89</td>\n",
       "      <td>250898.09</td>\n",
       "    </tr>\n",
       "    <tr>\n",
       "      <th>NumOfProducts</th>\n",
       "      <td>9091.0</td>\n",
       "      <td>NaN</td>\n",
       "      <td>NaN</td>\n",
       "      <td>NaN</td>\n",
       "      <td>1.530195</td>\n",
       "      <td>0.581003</td>\n",
       "      <td>1.0</td>\n",
       "      <td>1.0</td>\n",
       "      <td>1.0</td>\n",
       "      <td>2.0</td>\n",
       "      <td>4.0</td>\n",
       "    </tr>\n",
       "    <tr>\n",
       "      <th>HasCrCard</th>\n",
       "      <td>9091.0</td>\n",
       "      <td>NaN</td>\n",
       "      <td>NaN</td>\n",
       "      <td>NaN</td>\n",
       "      <td>0.704983</td>\n",
       "      <td>0.456076</td>\n",
       "      <td>0.0</td>\n",
       "      <td>0.0</td>\n",
       "      <td>1.0</td>\n",
       "      <td>1.0</td>\n",
       "      <td>1.0</td>\n",
       "    </tr>\n",
       "    <tr>\n",
       "      <th>IsActiveMember</th>\n",
       "      <td>9091.0</td>\n",
       "      <td>NaN</td>\n",
       "      <td>NaN</td>\n",
       "      <td>NaN</td>\n",
       "      <td>0.515565</td>\n",
       "      <td>0.499785</td>\n",
       "      <td>0.0</td>\n",
       "      <td>0.0</td>\n",
       "      <td>1.0</td>\n",
       "      <td>1.0</td>\n",
       "      <td>1.0</td>\n",
       "    </tr>\n",
       "    <tr>\n",
       "      <th>EstimatedSalary</th>\n",
       "      <td>9091.0</td>\n",
       "      <td>NaN</td>\n",
       "      <td>NaN</td>\n",
       "      <td>NaN</td>\n",
       "      <td>100181.214924</td>\n",
       "      <td>57624.755647</td>\n",
       "      <td>11.58</td>\n",
       "      <td>51227.745</td>\n",
       "      <td>100240.2</td>\n",
       "      <td>149567.21</td>\n",
       "      <td>199992.48</td>\n",
       "    </tr>\n",
       "    <tr>\n",
       "      <th>Exited</th>\n",
       "      <td>9091.0</td>\n",
       "      <td>NaN</td>\n",
       "      <td>NaN</td>\n",
       "      <td>NaN</td>\n",
       "      <td>0.203938</td>\n",
       "      <td>0.402946</td>\n",
       "      <td>0.0</td>\n",
       "      <td>0.0</td>\n",
       "      <td>0.0</td>\n",
       "      <td>0.0</td>\n",
       "      <td>1.0</td>\n",
       "    </tr>\n",
       "  </tbody>\n",
       "</table>\n",
       "</div>"
      ],
      "text/plain": [
       "                  count unique     top  freq           mean           std  \\\n",
       "CreditScore      9091.0    NaN     NaN   NaN     650.736553     96.410471   \n",
       "Geography          9091      3  France  4550            NaN           NaN   \n",
       "Gender             9091      2    Male  4974            NaN           NaN   \n",
       "Age              9091.0    NaN     NaN   NaN      38.949181     10.555581   \n",
       "Tenure           9091.0    NaN     NaN   NaN        4.99769      2.894723   \n",
       "Balance          9091.0    NaN     NaN   NaN   76522.740015  62329.528576   \n",
       "NumOfProducts    9091.0    NaN     NaN   NaN       1.530195      0.581003   \n",
       "HasCrCard        9091.0    NaN     NaN   NaN       0.704983      0.456076   \n",
       "IsActiveMember   9091.0    NaN     NaN   NaN       0.515565      0.499785   \n",
       "EstimatedSalary  9091.0    NaN     NaN   NaN  100181.214924  57624.755647   \n",
       "Exited           9091.0    NaN     NaN   NaN       0.203938      0.402946   \n",
       "\n",
       "                   min        25%       50%        75%        max  \n",
       "CreditScore      350.0      584.0     652.0      717.0      850.0  \n",
       "Geography          NaN        NaN       NaN        NaN        NaN  \n",
       "Gender             NaN        NaN       NaN        NaN        NaN  \n",
       "Age               18.0       32.0      37.0       44.0       92.0  \n",
       "Tenure             0.0        2.0       5.0        7.0       10.0  \n",
       "Balance            0.0        0.0  97318.25  127561.89  250898.09  \n",
       "NumOfProducts      1.0        1.0       1.0        2.0        4.0  \n",
       "HasCrCard          0.0        0.0       1.0        1.0        1.0  \n",
       "IsActiveMember     0.0        0.0       1.0        1.0        1.0  \n",
       "EstimatedSalary  11.58  51227.745  100240.2  149567.21  199992.48  \n",
       "Exited             0.0        0.0       0.0        0.0        1.0  "
      ]
     },
     "execution_count": 10,
     "metadata": {},
     "output_type": "execute_result"
    }
   ],
   "source": [
    "data.describe(include='all').T"
   ]
  },
  {
   "cell_type": "markdown",
   "metadata": {},
   "source": [
    "Мы имеем существенно несбалансированный таргет (почти в 4 раза)"
   ]
  },
  {
   "cell_type": "code",
   "execution_count": 11,
   "metadata": {},
   "outputs": [
    {
     "data": {
      "text/plain": [
       "Geography\n",
       "France     0.500495\n",
       "Germany    0.252227\n",
       "Spain      0.247278\n",
       "Name: proportion, dtype: float64"
      ]
     },
     "execution_count": 11,
     "metadata": {},
     "output_type": "execute_result"
    }
   ],
   "source": [
    "data['Geography'].value_counts(normalize = True)"
   ]
  },
  {
   "cell_type": "code",
   "execution_count": 12,
   "metadata": {},
   "outputs": [
    {
     "data": {
      "text/plain": [
       "HasCrCard\n",
       "1    0.704983\n",
       "0    0.295017\n",
       "Name: proportion, dtype: float64"
      ]
     },
     "execution_count": 12,
     "metadata": {},
     "output_type": "execute_result"
    }
   ],
   "source": [
    "data['HasCrCard'].value_counts(normalize = True)"
   ]
  },
  {
   "cell_type": "code",
   "execution_count": 13,
   "metadata": {},
   "outputs": [
    {
     "data": {
      "text/plain": [
       "IsActiveMember\n",
       "1    0.515565\n",
       "0    0.484435\n",
       "Name: proportion, dtype: float64"
      ]
     },
     "execution_count": 13,
     "metadata": {},
     "output_type": "execute_result"
    }
   ],
   "source": [
    "data['IsActiveMember'].value_counts(normalize = True)"
   ]
  },
  {
   "cell_type": "markdown",
   "metadata": {},
   "source": [
    "Посмoтрим за распределением признаков с разным значением таргета"
   ]
  },
  {
   "cell_type": "code",
   "execution_count": 14,
   "metadata": {},
   "outputs": [
    {
     "data": {
      "image/png": "[encoded data removed]",
      "text/plain": [
       "<Figure size 1600x400 with 2 Axes>"
      ]
     },
     "metadata": {},
     "output_type": "display_data"
    },
    {
     "data": {
      "image/png": "[encoded data removed]",
      "text/plain": [
       "<Figure size 1600x400 with 2 Axes>"
      ]
     },
     "metadata": {},
     "output_type": "display_data"
    },
    {
     "data": {
      "image/png": "[encoded data removed]",
      "text/plain": [
       "<Figure size 1600x400 with 2 Axes>"
      ]
     },
     "metadata": {},
     "output_type": "display_data"
    },
    {
     "data": {
      "image/png": "[encoded data removed]",
      "text/plain": [
       "<Figure size 1600x400 with 2 Axes>"
      ]
     },
     "metadata": {},
     "output_type": "display_data"
    },
    {
     "data": {
      "image/png": "[encoded data removed]",
      "text/plain": [
       "<Figure size 1600x400 with 2 Axes>"
      ]
     },
     "metadata": {},
     "output_type": "display_data"
    },
    {
     "data": {
      "image/png": "[encoded data removed]",
      "text/plain": [
       "<Figure size 1600x400 with 2 Axes>"
      ]
     },
     "metadata": {},
     "output_type": "display_data"
    }
   ],
   "source": [
    "#числовые\n",
    "sns.set(rc={'figure.figsize':(16, 4)})\n",
    "sns.set_style(\"darkgrid\")\n",
    "for column in numeric:\n",
    "    plt.subplot(1, 2, 1)\n",
    "    sns.distplot(data.query('Exited == 1')[column], bins=10).set(title='Exited=1')\n",
    "    plt.subplot(1, 2, 2)\n",
    "    sns.distplot(data.query('Exited == 0')[column], bins=10).set(title='Exited=0')\n",
    "    plt.show()"
   ]
  },
  {
   "cell_type": "markdown",
   "metadata": {},
   "source": [
    "Очень заметен выброс в Balance в сторону нуля. Возможно, довольно заметная часть клиентов не хранит деньги на счетах вообще. Или по ним не было данных и пропуски закрывались нулём. Также заметно аномально большое число клиентов, которые пользуются услугами банка 10 лет и странно, что график обрывается: то есть имеется много клиентов, кто пользуется 10 лет, но нет клиентов, которые бы пользовались, например, 11 лет. Было бы интересно посмотреть на форму анкеты, с которой собирались эти данные: возможно, старые пользователи (больше 10 лет) просто ставят срок пользования услугами банка 10 лет, не имея возможности поставить бОльший срок.   "
   ]
  },
  {
   "cell_type": "markdown",
   "metadata": {},
   "source": [
    "### Подготовка данных выводы\n",
    "\n",
    "1. Произведен первичный анализ данных, удалены 909 строк (из 10 000) с пропусками в графе Tenure\n",
    "2. Таргет существенно несбалансирован в сторону нуля (почти в 4 раза)\n",
    "3. Обнаружены выбросы в графе Balance (аномально большое число пользователей с нулевым балансом)\n",
    "4. Обнаружены выбросы в графе Tenure (большое число пользователей, которые пользуются услугами банка 10 лет, причем график резко обрывается). \n",
    "5. Заметной корреляции между признаками и целевой переменной не обнаружено."
   ]
  },
  {
   "cell_type": "markdown",
   "metadata": {},
   "source": [
    "## Исследование задачи"
   ]
  },
  {
   "cell_type": "markdown",
   "metadata": {},
   "source": [
    "\n",
    "Сначала будем искать оптимальную модель без учета баланса классов. Будем использовать логистическую регрессию и RandomForestClassifier. У нас есть как категориальные, так числовые признаки. Категориальные признаки закодируем с помощью one hot encoding. Будем измерять метрики f1 и AUC ROC. </div>"
   ]
  },
  {
   "cell_type": "code",
   "execution_count": 15,
   "metadata": {},
   "outputs": [],
   "source": [
    "data_ohe = pd.get_dummies(data, drop_first=True)\n",
    "features = data_ohe.drop(columns = ['Exited'])\n",
    "target = data_ohe['Exited']"
   ]
  },
  {
   "cell_type": "markdown",
   "metadata": {},
   "source": [
    "Разделим выборку на три части: обучающая (для обучения модели, 60%), валидационную (для подбора гиперпараметров, 20%) и тестовую (для оценки качества модели)."
   ]
  },
  {
   "cell_type": "code",
   "execution_count": 16,
   "metadata": {},
   "outputs": [
    {
     "name": "stdout",
     "output_type": "stream",
     "text": [
      "59.99 %\n",
      "20.0 %\n",
      "20.01 %\n"
     ]
    }
   ],
   "source": [
    "features_1, features_test, target_1, target_test = train_test_split(\n",
    "    features, target, test_size=0.20, random_state=12345)\n",
    "\n",
    "#доля выросла до 25%, так как ранее мы уже отрезали 20% от выборки на тест\n",
    "features_train, features_valid, target_train, target_valid = train_test_split(\n",
    "    features_1, target_1, test_size=0.25, random_state=12345)\n",
    "\n",
    "#проверим размеры выборок\n",
    "for item in [features_train, features_valid, features_test]:\n",
    "    print(round(item.shape[0]*100/features.shape[0], 2),'%')"
   ]
  },
  {
   "cell_type": "markdown",
   "metadata": {},
   "source": [
    "Отмасштабируем числовые признаки"
   ]
  },
  {
   "cell_type": "code",
   "execution_count": 17,
   "metadata": {},
   "outputs": [],
   "source": [
    "scaler = StandardScaler()\n",
    "scaler.fit(features_train[numeric]) \n",
    "features_train[numeric] = scaler.transform(features_train[numeric])\n",
    "features_valid[numeric] = scaler.transform(features_valid[numeric])\n",
    "features_test[numeric] = scaler.transform(features_test[numeric])"
   ]
  },
  {
   "cell_type": "markdown",
   "metadata": {},
   "source": [
    "При выборе метрик нам необходимо подумать о том, зачем мы вообще строим прогнозную модель. <br>\n",
    "1. Если мы хотим найти максимальное количество клиентов, которые собираются уйти (чтобы вручить им тот или иной подарок, чтобы они остались), пусть и ценой того, что в найденных клиентах будет много лояльных клиентов (для которых этот подарок - пустая трата средств в плане удержания), то нам надо максимизировать Recall (то есть количество клиентов, которых модель назвала нелояльными и которые действительно собираются уйти, поделить на всех клиентов, которые собираются уйти). <b> То есть подарок для клиента стоит дешево, а сам клиент стоит дорого (оставшийся ltv). </b> Но надо быть готовым к тому, что максимизировать Recall всегда будет тривиальная модель, которая тегирует всех клиентов как нелояльные.<br>\n",
    "2. Модель находит нам некоторое количество нелояльных клиентов. Если мы хотим, чтобы доля действительно нелояльных клиентов в этом наборе была максимальна, то нам надо максимизировать Precision (то есть количество клиентов, которых модель назвала нелояльными и которые действительно собираются уйти, поделить на общее число клиентов, помеченных системой как нелояльные). Но в этом случае, мы рискуем оставить за бортом большое число нелояльных клиентов и потерять их. Зато <b> при максимизации Precision мы будем вручать подарки тем клиентам, в чьей нелояльности мы уверены. Подарок стоит сравнимо с оставшимся ltv этого клиента. </b>\n",
    "</div>"
   ]
  },
  {
   "cell_type": "markdown",
   "metadata": {},
   "source": [
    "Также проверим модели на адекватность: добавим качество константной модели. \n"
   ]
  },
  {
   "cell_type": "markdown",
   "metadata": {},
   "source": [
    "\"Обучим\" константную модель и измерим метрики."
   ]
  },
  {
   "cell_type": "code",
   "execution_count": 18,
   "metadata": {},
   "outputs": [
    {
     "name": "stdout",
     "output_type": "stream",
     "text": [
      "Значение f1 метрики и ROC AUC равно 0.0 , 0.5\n"
     ]
    }
   ],
   "source": [
    "target_pred_constant = pd.Series([0]*len(target_valid))\n",
    "print('Значение f1 метрики и ROC AUC равно', \n",
    "      f1_score(target_valid, target_pred_constant), ',', roc_auc_score(target_valid, target_pred_constant))"
   ]
  },
  {
   "cell_type": "markdown",
   "metadata": {},
   "source": [
    "Обучим случайный лес и измерим метрики. Так как мы это будем в дальнейшем делать несколько раз, напишем функцию. "
   ]
  },
  {
   "cell_type": "code",
   "execution_count": 19,
   "metadata": {},
   "outputs": [],
   "source": [
    "def test_logrec_rforest(features_train, target_train, depth_range, est_range, cl_weight = None):\n",
    "    \n",
    "    score_dict = {}\n",
    "    for depth in depth_range:\n",
    "        for est in est_range:\n",
    "            model = RandomForestClassifier(n_estimators=est, max_depth=depth, random_state = 12345, class_weight = cl_weight)\n",
    "            model.fit(features_train, target_train)\n",
    "            predicted_valid = model.predict(features_valid)\n",
    "            f1 = f1_score(target_valid, predicted_valid)\n",
    "            \n",
    "            probabilities_one_valid = model.predict_proba(features_valid)[:, 1]\n",
    "            sd = {}\n",
    "            for threshold in np.arange(0, 0.99, 0.01):\n",
    "                predicted_valid = [1 if item>=threshold else 0 for item in probabilities_one_valid]\n",
    "                sd[threshold] = roc_auc_score(target_valid, predicted_valid)\n",
    "                \n",
    "            auc_roc = sd[sorted(sd, key = lambda x: -sd[x])[0]]\n",
    "            score_dict[(depth, est)] = [f1, auc_roc]\n",
    "            \n",
    "    print('Максимальное значение f1 меры на валидационной выборе для случайного леса равно',\n",
    "          f'{score_dict[sorted(score_dict, key = lambda x: -score_dict[x][0])[0]][0]:.3f},',\n",
    "          'соответствующее значение AUC ROC равно',\n",
    "          f'{score_dict[sorted(score_dict, key = lambda x: -score_dict[x][0])[0]][1]:.3f}.', \n",
    "          'Это значение достигается при таких параметрах глубины и числа деревьев :', \n",
    "          sorted(score_dict, key = lambda x: -score_dict[x][0])[0])\n",
    "    return score_dict"
   ]
  },
  {
   "cell_type": "code",
   "execution_count": 20,
   "metadata": {},
   "outputs": [
    {
     "name": "stdout",
     "output_type": "stream",
     "text": [
      "Максимальное значение f1 меры на валидационной выборе для случайного леса равно 0.564, соответствующее значение AUC ROC равно 0.759. Это значение достигается при таких параметрах глубины и числа деревьев : (20, 100)\n"
     ]
    }
   ],
   "source": [
    "score_dict = test_logrec_rforest(features_train,\n",
    "                                 target_train,\n",
    "                                 depth_range = range(10, 80, 5),\n",
    "                                 est_range = range(10, 130, 10),\n",
    "                                 cl_weight = None)"
   ]
  },
  {
   "cell_type": "markdown",
   "metadata": {},
   "source": [
    " <em>Примечание. Здесь и в следующем примере выставлены относительно узкие границы для depth и range в силу того, что поиск наилучших значений осуществлялся итерационно (то есть изначально были взяты широкие границы для depth и range с большим шагом, а затем эти границы сужались, а шаг уменьшался)."
   ]
  },
  {
   "cell_type": "markdown",
   "metadata": {},
   "source": [
    "Нам не удалось получить требуемое качество модели. Это могло возникнуть из-за того, что мы не учли существенный дисбаланс таргета."
   ]
  },
  {
   "cell_type": "markdown",
   "metadata": {},
   "source": [
    "## Борьба с дисбалансом"
   ]
  },
  {
   "cell_type": "markdown",
   "metadata": {},
   "source": [
    "Как и говорилось ранее объекты существенно несбалансированы по значению целевого признака. Учтём этот факт при построении моделей. "
   ]
  },
  {
   "cell_type": "code",
   "execution_count": 21,
   "metadata": {},
   "outputs": [
    {
     "name": "stdout",
     "output_type": "stream",
     "text": [
      "Максимальное значение f1 меры на валидационной выборе для случайного леса равно 0.606, соответствующее значение AUC ROC равно 0.772. Это значение достигается при таких параметрах глубины и числа деревьев : (10, 90)\n"
     ]
    }
   ],
   "source": [
    "score_dict = test_logrec_rforest(features_train,\n",
    "                                 target_train,\n",
    "                                 depth_range = range(10, 80, 5),\n",
    "                                 est_range = range(10, 130, 10),\n",
    "                                 cl_weight = 'balanced')"
   ]
  },
  {
   "cell_type": "markdown",
   "metadata": {},
   "source": [
    "Проведем апсемплинг тренировочных значений (скопируем случайным образом объекты, дополнив нашу выборку, чтобы получить баланс классов). Для этого воспользуемся SMOTE. \n"
   ]
  },
  {
   "cell_type": "code",
   "execution_count": 22,
   "metadata": {},
   "outputs": [],
   "source": [
    "oversample = SMOTE(random_state=12345)\n",
    "features_train_up, target_train_up = oversample.fit_resample(features_train, target_train)"
   ]
  },
  {
   "cell_type": "code",
   "execution_count": 23,
   "metadata": {},
   "outputs": [
    {
     "data": {
      "text/plain": [
       "(5454, 11)"
      ]
     },
     "execution_count": 23,
     "metadata": {},
     "output_type": "execute_result"
    }
   ],
   "source": [
    "features_train.shape"
   ]
  },
  {
   "cell_type": "code",
   "execution_count": 24,
   "metadata": {},
   "outputs": [
    {
     "data": {
      "text/plain": [
       "Exited\n",
       "0    4335\n",
       "1    1119\n",
       "Name: count, dtype: int64"
      ]
     },
     "execution_count": 24,
     "metadata": {},
     "output_type": "execute_result"
    }
   ],
   "source": [
    "target_train.value_counts()"
   ]
  },
  {
   "cell_type": "code",
   "execution_count": 25,
   "metadata": {},
   "outputs": [
    {
     "data": {
      "text/plain": [
       "(8670, 11)"
      ]
     },
     "execution_count": 25,
     "metadata": {},
     "output_type": "execute_result"
    }
   ],
   "source": [
    "features_train_up.shape"
   ]
  },
  {
   "cell_type": "code",
   "execution_count": 26,
   "metadata": {},
   "outputs": [
    {
     "data": {
      "text/plain": [
       "Exited\n",
       "0    4335\n",
       "1    4335\n",
       "Name: count, dtype: int64"
      ]
     },
     "execution_count": 26,
     "metadata": {},
     "output_type": "execute_result"
    }
   ],
   "source": [
    "target_train_up.value_counts()"
   ]
  },
  {
   "cell_type": "code",
   "execution_count": 27,
   "metadata": {},
   "outputs": [
    {
     "name": "stdout",
     "output_type": "stream",
     "text": [
      "Максимальное значение f1 меры на валидационной выборе для случайного леса равно 0.615, соответствующее значение AUC ROC равно 0.760. Это значение достигается при таких параметрах глубины и числа деревьев : (30, 210)\n"
     ]
    }
   ],
   "source": [
    "score_dict = test_logrec_rforest(features_train_up,\n",
    "                                 target_train_up,\n",
    "                                 depth_range=range(10, 80, 10),\n",
    "                                 est_range=range(10, 230, 10),\n",
    "                                 cl_weight = None)"
   ]
  },
  {
   "cell_type": "markdown",
   "metadata": {},
   "source": [
    "\n",
    "Апсемплинг на обучающей выборке даёт даже лучшие результаты на валидационной выборке, чем балансировка классов. Таким образом, мы получили наилучшее значение f1 метрики, используя апсемплинг и случайный лес с параметрами глубины и числа деревьев : (30, 80). Протестируем финально модель на тестовой выборке.\n"
   ]
  },
  {
   "cell_type": "code",
   "execution_count": 28,
   "metadata": {},
   "outputs": [],
   "source": [
    "#запомним эти значения\n",
    "depth, est = sorted(score_dict, key = lambda x: -score_dict[x][0])[0]"
   ]
  },
  {
   "cell_type": "markdown",
   "metadata": {},
   "source": [
    "## Тестирование модели"
   ]
  },
  {
   "cell_type": "markdown",
   "metadata": {},
   "source": [
    "Проверим теперь нашу модель на тестовой выборке"
   ]
  },
  {
   "cell_type": "code",
   "execution_count": 29,
   "metadata": {},
   "outputs": [
    {
     "name": "stdout",
     "output_type": "stream",
     "text": [
      "Метрика f1 на тестовой выборке равна 0.602\n",
      "Метрика AUC ROC на тестовой выборке равна 0.776\n",
      "Метрика recall на тестовой выборке равна 0.593\n",
      "Метрика precision на тестовой выборке равна 0.610\n",
      "Метрика accuracy на тестовой выборке равна 0.841\n"
     ]
    }
   ],
   "source": [
    "model = RandomForestClassifier(n_estimators=est,\n",
    "                               max_depth=depth, \n",
    "                               random_state = 12345)\n",
    "\n",
    "model.fit(features_train_up, target_train_up)\n",
    "predicted_test = model.predict(features_test)\n",
    "\n",
    "probabilities_one_valid = model.predict_proba(features_test)[:, 1]\n",
    "\n",
    "sd = {}\n",
    "for threshold in np.arange(0, 0.99, 0.001):\n",
    "    predicted_test1 = [1 if item>=threshold else 0 for item in probabilities_one_valid]\n",
    "    sd[threshold] = roc_auc_score(target_test, predicted_test1)\n",
    "\n",
    "auc_roc = sd[sorted(sd, key = lambda x: -sd[x])[0]]\n",
    "\n",
    "print(f'Метрика f1 на тестовой выборке равна {f1_score(target_test, predicted_test):.3f}')\n",
    "print(f'Метрика AUC ROC на тестовой выборке равна {auc_roc:.3f}')\n",
    "print(f'Метрика recall на тестовой выборке равна {recall_score(target_test, predicted_test):.3f}')\n",
    "print(f'Метрика precision на тестовой выборке равна {precision_score(target_test, predicted_test):.3f}')\n",
    "print(f'Метрика accuracy на тестовой выборке равна {accuracy_score(target_test, predicted_test):.3f}')"
   ]
  },
  {
   "cell_type": "markdown",
   "metadata": {},
   "source": [
    "\n",
    "Фактически полученная метрика recall означает, что мы детектируем чуть меньше 60%, которые желают уйти. С другой стороны, исходя из precision, в помеченных моделью клиентах как нелояльные, действительно находится чуть меньше 60% клиентов, которые действительно нелояльны. <br> Стоит отметить весьма примечательный факт - accuracy модели несильно отличается от accuracy тривиальной модели, которая помечает всех клиентов как лояльных. "
   ]
  },
  {
   "cell_type": "markdown",
   "metadata": {},
   "source": [
    "# Выводы\n",
    "\n",
    "1. Мы загрузили данные, удалили строки с пропущенными значениями. В данных имеются аномалии (стобцы Balance и Tenure), есть существенный дисбаланс классов (почти в 4 раза).\n",
    "2. Закодировали категориальные признаки с помощью one hot encoding\n",
    "3. Разделили выборку на обучающую (для обучения модели), валидационную (подбор гиперпараметров) и тестовую (для финальной оценки качества модели)\n",
    "4. Провели сэмплирование числовых признаков с помощью StandartScaler\n",
    "5. Для работы мы использовали случайный лес (варьировали глубину и число деревьев)\n",
    "6. Изначально мы обучали модели без учета дисбаланса классов. Требуемого качества модели (f1_score = 0.59) достичь не удалось с использованием случайного леса\n",
    "7. Для борьбы с дисбалансом классов мы использовали балансировку классов и апсемплинг.\n",
    "8. Лучшее качество на валидационной выборке мы смогли получить с помощью апсемплинга и случайного леса с параметрами глубины и числа деревьев : (30, 80).\n",
    "9. Протестировав обученную на прошлом шаге модель, мы смогли получить требуемое качество модели на тестовой выборке. "
   ]
  },
  {
   "cell_type": "code",
   "execution_count": null,
   "metadata": {},
   "outputs": [],
   "source": []
  }
 ],
 "metadata": {
  "ExecuteTimeLog": [
   {
    "duration": 515,
    "start_time": "2023-01-15T06:45:22.608Z"
   },
   {
    "duration": 181,
    "start_time": "2023-01-15T06:46:00.228Z"
   },
   {
    "duration": 54,
    "start_time": "2023-01-15T06:47:21.611Z"
   },
   {
    "duration": 53,
    "start_time": "2023-01-15T06:47:37.305Z"
   },
   {
    "duration": 54,
    "start_time": "2023-01-15T06:48:07.550Z"
   },
   {
    "duration": 18,
    "start_time": "2023-01-15T06:51:25.610Z"
   },
   {
    "duration": 16,
    "start_time": "2023-01-15T07:09:00.765Z"
   },
   {
    "duration": 18,
    "start_time": "2023-01-15T07:09:11.079Z"
   },
   {
    "duration": 15,
    "start_time": "2023-01-15T07:09:18.140Z"
   },
   {
    "duration": 15,
    "start_time": "2023-01-15T07:09:24.320Z"
   },
   {
    "duration": 28,
    "start_time": "2023-01-15T07:10:25.812Z"
   },
   {
    "duration": 6,
    "start_time": "2023-01-15T07:20:20.382Z"
   },
   {
    "duration": 14,
    "start_time": "2023-01-15T07:21:35.401Z"
   },
   {
    "duration": 19,
    "start_time": "2023-01-15T07:21:50.621Z"
   },
   {
    "duration": 12,
    "start_time": "2023-01-15T07:22:45.724Z"
   },
   {
    "duration": 14,
    "start_time": "2023-01-15T07:27:08.495Z"
   },
   {
    "duration": 14,
    "start_time": "2023-01-15T07:28:54.362Z"
   },
   {
    "duration": 2,
    "start_time": "2023-01-15T07:30:22.844Z"
   },
   {
    "duration": 52,
    "start_time": "2023-01-15T07:30:23.370Z"
   },
   {
    "duration": 13,
    "start_time": "2023-01-15T07:30:24.402Z"
   },
   {
    "duration": 18,
    "start_time": "2023-01-15T07:30:25.282Z"
   },
   {
    "duration": 15,
    "start_time": "2023-01-15T07:30:26.295Z"
   },
   {
    "duration": 27,
    "start_time": "2023-01-15T07:30:31.873Z"
   },
   {
    "duration": 8,
    "start_time": "2023-01-15T07:38:07.699Z"
   },
   {
    "duration": 7,
    "start_time": "2023-01-15T07:38:46.321Z"
   },
   {
    "duration": 1373,
    "start_time": "2023-01-15T07:39:12.975Z"
   },
   {
    "duration": 7,
    "start_time": "2023-01-15T07:39:15.535Z"
   },
   {
    "duration": 6,
    "start_time": "2023-01-15T07:39:37.289Z"
   },
   {
    "duration": 27,
    "start_time": "2023-01-15T07:39:52.065Z"
   },
   {
    "duration": 7,
    "start_time": "2023-01-15T07:39:58.623Z"
   },
   {
    "duration": 9,
    "start_time": "2023-01-15T07:40:04.882Z"
   },
   {
    "duration": 7,
    "start_time": "2023-01-15T07:42:04.368Z"
   },
   {
    "duration": 11,
    "start_time": "2023-01-15T07:46:04.653Z"
   },
   {
    "duration": 23,
    "start_time": "2023-01-15T08:10:45.922Z"
   },
   {
    "duration": 7,
    "start_time": "2023-01-15T08:11:06.116Z"
   },
   {
    "duration": 7,
    "start_time": "2023-01-15T08:11:17.167Z"
   },
   {
    "duration": 8,
    "start_time": "2023-01-15T08:12:18.022Z"
   },
   {
    "duration": 12,
    "start_time": "2023-01-15T08:12:18.634Z"
   },
   {
    "duration": 4,
    "start_time": "2023-01-15T08:19:43.842Z"
   },
   {
    "duration": 6,
    "start_time": "2023-01-15T10:22:34.990Z"
   },
   {
    "duration": 6,
    "start_time": "2023-01-15T10:22:46.514Z"
   },
   {
    "duration": 8,
    "start_time": "2023-01-15T10:23:54.272Z"
   },
   {
    "duration": 8,
    "start_time": "2023-01-15T10:23:54.685Z"
   },
   {
    "duration": 7,
    "start_time": "2023-01-15T10:23:55.860Z"
   },
   {
    "duration": 7,
    "start_time": "2023-01-15T10:23:59.777Z"
   },
   {
    "duration": 34,
    "start_time": "2023-01-15T10:26:34.869Z"
   },
   {
    "duration": 944,
    "start_time": "2023-01-15T10:29:01.933Z"
   },
   {
    "duration": 12452,
    "start_time": "2023-01-15T10:30:36.705Z"
   },
   {
    "duration": 6638,
    "start_time": "2023-01-15T10:31:03.509Z"
   },
   {
    "duration": 6495,
    "start_time": "2023-01-15T10:32:05.877Z"
   },
   {
    "duration": 6502,
    "start_time": "2023-01-15T10:32:14.197Z"
   },
   {
    "duration": 11,
    "start_time": "2023-01-15T10:38:45.091Z"
   },
   {
    "duration": 3,
    "start_time": "2023-01-15T10:39:26.041Z"
   },
   {
    "duration": 2474,
    "start_time": "2023-01-15T10:39:32.998Z"
   },
   {
    "duration": 18,
    "start_time": "2023-01-15T10:49:30.206Z"
   },
   {
    "duration": 1212,
    "start_time": "2023-01-15T10:50:14.032Z"
   },
   {
    "duration": 2479,
    "start_time": "2023-01-15T10:51:35.504Z"
   },
   {
    "duration": 9,
    "start_time": "2023-01-15T10:54:58.708Z"
   },
   {
    "duration": 20,
    "start_time": "2023-01-15T10:55:24.984Z"
   },
   {
    "duration": 15,
    "start_time": "2023-01-15T10:55:34.535Z"
   },
   {
    "duration": 9,
    "start_time": "2023-01-15T10:55:53.317Z"
   },
   {
    "duration": 16,
    "start_time": "2023-01-15T10:56:14.188Z"
   },
   {
    "duration": 14,
    "start_time": "2023-01-15T10:59:20.196Z"
   },
   {
    "duration": 36,
    "start_time": "2023-01-15T10:59:27.378Z"
   },
   {
    "duration": 17,
    "start_time": "2023-01-15T11:00:10.219Z"
   },
   {
    "duration": 277,
    "start_time": "2023-01-15T11:39:14.816Z"
   },
   {
    "duration": 10,
    "start_time": "2023-01-15T11:40:31.536Z"
   },
   {
    "duration": 7,
    "start_time": "2023-01-15T11:40:47.642Z"
   },
   {
    "duration": 14,
    "start_time": "2023-01-15T11:47:44.409Z"
   },
   {
    "duration": 16,
    "start_time": "2023-01-15T11:55:16.469Z"
   },
   {
    "duration": 27,
    "start_time": "2023-01-15T11:55:32.019Z"
   },
   {
    "duration": 11,
    "start_time": "2023-01-15T11:55:53.539Z"
   },
   {
    "duration": 11,
    "start_time": "2023-01-15T11:56:12.314Z"
   },
   {
    "duration": 4,
    "start_time": "2023-01-15T11:57:09.956Z"
   },
   {
    "duration": 11,
    "start_time": "2023-01-15T12:12:11.388Z"
   },
   {
    "duration": 28,
    "start_time": "2023-01-15T12:12:12.677Z"
   },
   {
    "duration": 35,
    "start_time": "2023-01-15T12:16:05.319Z"
   },
   {
    "duration": 12,
    "start_time": "2023-01-15T12:16:32.365Z"
   },
   {
    "duration": 10,
    "start_time": "2023-01-15T12:16:33.305Z"
   },
   {
    "duration": 28,
    "start_time": "2023-01-15T12:16:35.070Z"
   },
   {
    "duration": 20,
    "start_time": "2023-01-15T12:16:36.419Z"
   },
   {
    "duration": 12,
    "start_time": "2023-01-15T12:16:59.371Z"
   },
   {
    "duration": 10,
    "start_time": "2023-01-15T12:17:01.356Z"
   },
   {
    "duration": 27,
    "start_time": "2023-01-15T12:17:03.749Z"
   },
   {
    "duration": 20,
    "start_time": "2023-01-15T12:17:05.796Z"
   },
   {
    "duration": 4,
    "start_time": "2023-01-15T12:26:32.948Z"
   },
   {
    "duration": 3,
    "start_time": "2023-01-15T12:26:36.851Z"
   },
   {
    "duration": 68,
    "start_time": "2023-01-15T12:29:30.863Z"
   },
   {
    "duration": 24,
    "start_time": "2023-01-15T12:29:39.452Z"
   },
   {
    "duration": 23,
    "start_time": "2023-01-15T12:29:56.846Z"
   },
   {
    "duration": 52,
    "start_time": "2023-01-15T12:30:02.001Z"
   },
   {
    "duration": 21,
    "start_time": "2023-01-15T12:30:07.053Z"
   },
   {
    "duration": 23,
    "start_time": "2023-01-15T12:30:25.393Z"
   },
   {
    "duration": 27,
    "start_time": "2023-01-15T12:30:28.212Z"
   },
   {
    "duration": 24,
    "start_time": "2023-01-15T12:30:34.916Z"
   },
   {
    "duration": 22,
    "start_time": "2023-01-15T12:30:38.938Z"
   },
   {
    "duration": 23,
    "start_time": "2023-01-15T12:30:55.537Z"
   },
   {
    "duration": 31,
    "start_time": "2023-01-15T12:30:59.751Z"
   },
   {
    "duration": 74,
    "start_time": "2023-01-15T12:31:08.713Z"
   },
   {
    "duration": 69,
    "start_time": "2023-01-15T12:31:19.165Z"
   },
   {
    "duration": 49,
    "start_time": "2023-01-15T12:32:28.602Z"
   },
   {
    "duration": 21,
    "start_time": "2023-01-15T12:32:33.832Z"
   },
   {
    "duration": 24,
    "start_time": "2023-01-15T12:32:43.965Z"
   },
   {
    "duration": 31,
    "start_time": "2023-01-15T12:33:02.156Z"
   },
   {
    "duration": 29,
    "start_time": "2023-01-15T12:40:49.228Z"
   },
   {
    "duration": 4,
    "start_time": "2023-01-15T12:41:18.290Z"
   },
   {
    "duration": 311,
    "start_time": "2023-01-15T12:41:26.841Z"
   },
   {
    "duration": 449,
    "start_time": "2023-01-15T12:42:29.942Z"
   },
   {
    "duration": 358,
    "start_time": "2023-01-15T12:47:01.865Z"
   },
   {
    "duration": 356,
    "start_time": "2023-01-15T12:47:09.869Z"
   },
   {
    "duration": 357,
    "start_time": "2023-01-15T12:50:41.557Z"
   },
   {
    "duration": 358,
    "start_time": "2023-01-15T12:51:17.112Z"
   },
   {
    "duration": 328,
    "start_time": "2023-01-15T12:51:43.887Z"
   },
   {
    "duration": 6,
    "start_time": "2023-01-15T12:52:07.957Z"
   },
   {
    "duration": 416,
    "start_time": "2023-01-15T12:52:23.858Z"
   },
   {
    "duration": 6,
    "start_time": "2023-01-15T12:52:26.506Z"
   },
   {
    "duration": 2103,
    "start_time": "2023-01-15T12:52:59.172Z"
   },
   {
    "duration": 18017,
    "start_time": "2023-01-15T12:53:14.975Z"
   },
   {
    "duration": 2033,
    "start_time": "2023-01-15T12:53:50.380Z"
   },
   {
    "duration": 332,
    "start_time": "2023-01-15T12:54:13.008Z"
   },
   {
    "duration": 2150,
    "start_time": "2023-01-15T12:54:18.746Z"
   },
   {
    "duration": 2038,
    "start_time": "2023-01-15T12:57:59.405Z"
   },
   {
    "duration": 2030,
    "start_time": "2023-01-15T12:58:42.417Z"
   },
   {
    "duration": 1915,
    "start_time": "2023-01-15T12:59:00.543Z"
   },
   {
    "duration": 1987,
    "start_time": "2023-01-15T12:59:36.357Z"
   },
   {
    "duration": 5,
    "start_time": "2023-01-15T12:59:46.452Z"
   },
   {
    "duration": 1905,
    "start_time": "2023-01-15T12:59:55.491Z"
   },
   {
    "duration": 5,
    "start_time": "2023-01-15T13:00:07.897Z"
   },
   {
    "duration": 1935,
    "start_time": "2023-01-15T13:00:56.822Z"
   },
   {
    "duration": 1897,
    "start_time": "2023-01-15T13:01:02.912Z"
   },
   {
    "duration": 1942,
    "start_time": "2023-01-15T13:01:52.300Z"
   },
   {
    "duration": 1882,
    "start_time": "2023-01-15T13:02:16.685Z"
   },
   {
    "duration": 1910,
    "start_time": "2023-01-15T13:03:06.006Z"
   },
   {
    "duration": 5,
    "start_time": "2023-01-15T13:05:35.296Z"
   },
   {
    "duration": 19778,
    "start_time": "2023-01-15T13:08:55.758Z"
   },
   {
    "duration": 131791,
    "start_time": "2023-01-15T13:10:06.142Z"
   },
   {
    "duration": 52044,
    "start_time": "2023-01-15T13:13:33.237Z"
   },
   {
    "duration": 52,
    "start_time": "2023-01-15T13:20:51.450Z"
   },
   {
    "duration": 1528,
    "start_time": "2023-01-15T13:21:03.815Z"
   },
   {
    "duration": 61,
    "start_time": "2023-01-15T13:21:05.345Z"
   },
   {
    "duration": 12,
    "start_time": "2023-01-15T13:21:05.407Z"
   },
   {
    "duration": 14,
    "start_time": "2023-01-15T13:21:05.421Z"
   },
   {
    "duration": 19,
    "start_time": "2023-01-15T13:21:05.853Z"
   },
   {
    "duration": 10,
    "start_time": "2023-01-15T13:21:06.622Z"
   },
   {
    "duration": 12,
    "start_time": "2023-01-15T13:21:06.854Z"
   },
   {
    "duration": 3,
    "start_time": "2023-01-15T13:21:07.400Z"
   },
   {
    "duration": 42,
    "start_time": "2023-01-15T13:21:07.893Z"
   },
   {
    "duration": 10,
    "start_time": "2023-01-15T13:21:08.415Z"
   },
   {
    "duration": 6,
    "start_time": "2023-01-15T13:21:08.845Z"
   },
   {
    "duration": 8,
    "start_time": "2023-01-15T13:21:09.120Z"
   },
   {
    "duration": 2765,
    "start_time": "2023-01-15T13:21:09.635Z"
   },
   {
    "duration": 951,
    "start_time": "2023-01-15T13:21:12.402Z"
   },
   {
    "duration": 13,
    "start_time": "2023-01-15T13:21:13.355Z"
   },
   {
    "duration": 30,
    "start_time": "2023-01-15T13:21:13.370Z"
   },
   {
    "duration": 39,
    "start_time": "2023-01-15T13:21:13.948Z"
   },
   {
    "duration": 2015,
    "start_time": "2023-01-15T13:21:15.167Z"
   },
   {
    "duration": 5138,
    "start_time": "2023-01-15T13:21:17.184Z"
   },
   {
    "duration": 5039,
    "start_time": "2023-01-15T13:21:31.748Z"
   },
   {
    "duration": 809223,
    "start_time": "2023-01-15T13:22:03.131Z"
   },
   {
    "duration": 136057,
    "start_time": "2023-01-15T13:35:46.225Z"
   },
   {
    "duration": 168821,
    "start_time": "2023-01-15T13:43:13.641Z"
   },
   {
    "duration": 163467,
    "start_time": "2023-01-15T13:47:50.115Z"
   },
   {
    "duration": 60561,
    "start_time": "2023-01-15T13:52:28.745Z"
   },
   {
    "duration": 220704,
    "start_time": "2023-01-15T13:54:18.235Z"
   },
   {
    "duration": 424386,
    "start_time": "2023-01-15T13:58:22.635Z"
   },
   {
    "duration": 38,
    "start_time": "2023-01-15T14:08:26.674Z"
   },
   {
    "duration": 1933,
    "start_time": "2023-01-15T14:08:37.981Z"
   },
   {
    "duration": 380280,
    "start_time": "2023-01-15T14:09:35.319Z"
   },
   {
    "duration": 3769,
    "start_time": "2023-01-15T14:17:39.996Z"
   },
   {
    "duration": 1385,
    "start_time": "2023-01-15T14:21:45.580Z"
   },
   {
    "duration": 54,
    "start_time": "2023-01-15T14:21:46.967Z"
   },
   {
    "duration": 12,
    "start_time": "2023-01-15T14:21:47.207Z"
   },
   {
    "duration": 14,
    "start_time": "2023-01-15T14:21:48.031Z"
   },
   {
    "duration": 14,
    "start_time": "2023-01-15T14:21:48.631Z"
   },
   {
    "duration": 8,
    "start_time": "2023-01-15T14:21:49.948Z"
   },
   {
    "duration": 12,
    "start_time": "2023-01-15T14:21:50.338Z"
   },
   {
    "duration": 2,
    "start_time": "2023-01-15T14:21:51.386Z"
   },
   {
    "duration": 41,
    "start_time": "2023-01-15T14:21:52.279Z"
   },
   {
    "duration": 7,
    "start_time": "2023-01-15T14:21:53.324Z"
   },
   {
    "duration": 6,
    "start_time": "2023-01-15T14:21:53.839Z"
   },
   {
    "duration": 7,
    "start_time": "2023-01-15T14:21:54.298Z"
   },
   {
    "duration": 2289,
    "start_time": "2023-01-15T14:21:55.628Z"
   },
   {
    "duration": 908,
    "start_time": "2023-01-15T14:21:57.919Z"
   },
   {
    "duration": 24,
    "start_time": "2023-01-15T14:21:58.828Z"
   },
   {
    "duration": 10,
    "start_time": "2023-01-15T14:21:58.881Z"
   },
   {
    "duration": 34,
    "start_time": "2023-01-15T14:21:59.543Z"
   },
   {
    "duration": 1918,
    "start_time": "2023-01-15T14:22:00.178Z"
   },
   {
    "duration": 382068,
    "start_time": "2023-01-15T14:22:02.099Z"
   },
   {
    "duration": 1857,
    "start_time": "2023-01-15T14:28:24.169Z"
   },
   {
    "duration": 6,
    "start_time": "2023-01-15T14:28:26.028Z"
   },
   {
    "duration": 0,
    "start_time": "2023-01-15T14:28:26.036Z"
   },
   {
    "duration": 115,
    "start_time": "2023-01-15T14:29:04.457Z"
   },
   {
    "duration": 186684,
    "start_time": "2023-01-15T14:29:18.001Z"
   },
   {
    "duration": 5,
    "start_time": "2023-01-15T14:32:48.292Z"
   },
   {
    "duration": 192,
    "start_time": "2023-01-15T14:32:52.742Z"
   },
   {
    "duration": 239,
    "start_time": "2023-01-15T14:35:05.177Z"
   },
   {
    "duration": 3497,
    "start_time": "2023-01-15T14:46:40.022Z"
   },
   {
    "duration": 3269,
    "start_time": "2023-01-15T14:47:01.905Z"
   },
   {
    "duration": 186,
    "start_time": "2023-01-15T14:50:12.180Z"
   },
   {
    "duration": 1458,
    "start_time": "2023-01-15T14:53:16.253Z"
   },
   {
    "duration": 56,
    "start_time": "2023-01-15T14:53:18.801Z"
   },
   {
    "duration": 11,
    "start_time": "2023-01-15T14:53:22.466Z"
   },
   {
    "duration": 15,
    "start_time": "2023-01-15T14:53:23.098Z"
   },
   {
    "duration": 15,
    "start_time": "2023-01-15T14:53:23.532Z"
   },
   {
    "duration": 11,
    "start_time": "2023-01-15T14:53:25.199Z"
   },
   {
    "duration": 13,
    "start_time": "2023-01-15T14:53:28.221Z"
   },
   {
    "duration": 3,
    "start_time": "2023-01-15T14:53:30.303Z"
   },
   {
    "duration": 37,
    "start_time": "2023-01-15T14:53:36.801Z"
   },
   {
    "duration": 7,
    "start_time": "2023-01-15T14:53:38.076Z"
   },
   {
    "duration": 6,
    "start_time": "2023-01-15T14:53:38.501Z"
   },
   {
    "duration": 6,
    "start_time": "2023-01-15T14:53:38.944Z"
   },
   {
    "duration": 2448,
    "start_time": "2023-01-15T14:53:40.080Z"
   },
   {
    "duration": 905,
    "start_time": "2023-01-15T14:53:42.530Z"
   },
   {
    "duration": 15,
    "start_time": "2023-01-15T14:53:53.610Z"
   },
   {
    "duration": 11,
    "start_time": "2023-01-15T14:53:54.261Z"
   },
   {
    "duration": 29,
    "start_time": "2023-01-15T14:53:54.973Z"
   },
   {
    "duration": 3301,
    "start_time": "2023-01-15T14:53:55.596Z"
   },
   {
    "duration": 377388,
    "start_time": "2023-01-15T14:53:58.899Z"
   },
   {
    "duration": 3232,
    "start_time": "2023-01-15T15:00:16.288Z"
   },
   {
    "duration": 190391,
    "start_time": "2023-01-15T15:00:19.523Z"
   },
   {
    "duration": 6,
    "start_time": "2023-01-15T15:03:29.917Z"
   },
   {
    "duration": 219,
    "start_time": "2023-01-15T15:03:29.925Z"
   },
   {
    "duration": 121749,
    "start_time": "2023-01-15T15:03:30.150Z"
   },
   {
    "duration": 1512,
    "start_time": "2023-01-15T15:06:19.186Z"
   },
   {
    "duration": 56,
    "start_time": "2023-01-15T15:06:20.700Z"
   },
   {
    "duration": 13,
    "start_time": "2023-01-15T15:06:20.758Z"
   },
   {
    "duration": 16,
    "start_time": "2023-01-15T15:06:20.774Z"
   },
   {
    "duration": 18,
    "start_time": "2023-01-15T15:06:20.792Z"
   },
   {
    "duration": 9,
    "start_time": "2023-01-15T15:06:21.447Z"
   },
   {
    "duration": 12,
    "start_time": "2023-01-15T15:06:21.673Z"
   },
   {
    "duration": 3,
    "start_time": "2023-01-15T15:06:22.064Z"
   },
   {
    "duration": 44,
    "start_time": "2023-01-15T15:06:22.479Z"
   },
   {
    "duration": 7,
    "start_time": "2023-01-15T15:06:22.909Z"
   },
   {
    "duration": 6,
    "start_time": "2023-01-15T15:06:23.123Z"
   },
   {
    "duration": 6,
    "start_time": "2023-01-15T15:06:23.362Z"
   },
   {
    "duration": 2424,
    "start_time": "2023-01-15T15:06:23.869Z"
   },
   {
    "duration": 895,
    "start_time": "2023-01-15T15:06:26.295Z"
   },
   {
    "duration": 13,
    "start_time": "2023-01-15T15:06:27.192Z"
   },
   {
    "duration": 10,
    "start_time": "2023-01-15T15:06:27.207Z"
   },
   {
    "duration": 47,
    "start_time": "2023-01-15T15:06:27.218Z"
   },
   {
    "duration": 3218,
    "start_time": "2023-01-15T15:06:27.268Z"
   },
   {
    "duration": 120750,
    "start_time": "2023-01-15T15:06:30.488Z"
   },
   {
    "duration": 3227,
    "start_time": "2023-01-15T15:08:31.240Z"
   },
   {
    "duration": 98994,
    "start_time": "2023-01-15T15:08:34.469Z"
   },
   {
    "duration": 3,
    "start_time": "2023-01-15T15:10:13.465Z"
   },
   {
    "duration": 213,
    "start_time": "2023-01-15T15:10:13.471Z"
   },
   {
    "duration": 1738,
    "start_time": "2023-01-15T19:05:05.878Z"
   },
   {
    "duration": 92,
    "start_time": "2023-01-15T19:05:07.618Z"
   },
   {
    "duration": 10,
    "start_time": "2023-01-15T19:05:07.712Z"
   },
   {
    "duration": 17,
    "start_time": "2023-01-15T19:05:07.723Z"
   },
   {
    "duration": 19,
    "start_time": "2023-01-15T19:05:07.741Z"
   },
   {
    "duration": 8,
    "start_time": "2023-01-15T19:05:07.761Z"
   },
   {
    "duration": 32,
    "start_time": "2023-01-15T19:05:07.770Z"
   },
   {
    "duration": 3,
    "start_time": "2023-01-15T19:05:07.803Z"
   },
   {
    "duration": 40,
    "start_time": "2023-01-15T19:05:07.807Z"
   },
   {
    "duration": 6,
    "start_time": "2023-01-15T19:05:07.849Z"
   },
   {
    "duration": 20,
    "start_time": "2023-01-15T19:05:07.857Z"
   },
   {
    "duration": 11,
    "start_time": "2023-01-15T19:05:07.879Z"
   },
   {
    "duration": 2278,
    "start_time": "2023-01-15T19:05:07.891Z"
   },
   {
    "duration": 916,
    "start_time": "2023-01-15T19:05:10.170Z"
   },
   {
    "duration": 12,
    "start_time": "2023-01-15T19:05:11.087Z"
   },
   {
    "duration": 11,
    "start_time": "2023-01-15T19:05:11.101Z"
   },
   {
    "duration": 41,
    "start_time": "2023-01-15T19:05:11.114Z"
   },
   {
    "duration": 2951,
    "start_time": "2023-01-15T19:05:11.157Z"
   },
   {
    "duration": 109374,
    "start_time": "2023-01-15T19:05:14.110Z"
   },
   {
    "duration": 3122,
    "start_time": "2023-01-15T19:07:03.485Z"
   },
   {
    "duration": 91486,
    "start_time": "2023-01-15T19:07:06.608Z"
   },
   {
    "duration": 3,
    "start_time": "2023-01-15T19:08:38.096Z"
   },
   {
    "duration": 178,
    "start_time": "2023-01-15T19:08:38.101Z"
   },
   {
    "duration": 1609,
    "start_time": "2023-01-16T08:53:02.014Z"
   },
   {
    "duration": 187,
    "start_time": "2023-01-16T08:53:03.625Z"
   },
   {
    "duration": 13,
    "start_time": "2023-01-16T08:53:04.057Z"
   },
   {
    "duration": 14,
    "start_time": "2023-01-16T08:53:04.929Z"
   },
   {
    "duration": 13,
    "start_time": "2023-01-16T08:53:06.320Z"
   },
   {
    "duration": 9,
    "start_time": "2023-01-16T08:53:08.747Z"
   },
   {
    "duration": 12,
    "start_time": "2023-01-16T08:53:09.535Z"
   },
   {
    "duration": 2,
    "start_time": "2023-01-16T08:53:12.953Z"
   },
   {
    "duration": 37,
    "start_time": "2023-01-16T08:53:26.089Z"
   },
   {
    "duration": 7,
    "start_time": "2023-01-16T08:53:42.444Z"
   },
   {
    "duration": 7,
    "start_time": "2023-01-16T08:53:42.949Z"
   },
   {
    "duration": 6,
    "start_time": "2023-01-16T08:53:43.398Z"
   },
   {
    "duration": 2335,
    "start_time": "2023-01-16T08:53:48.154Z"
   },
   {
    "duration": 1188,
    "start_time": "2023-01-16T08:54:12.674Z"
   },
   {
    "duration": 14,
    "start_time": "2023-01-16T08:55:02.660Z"
   },
   {
    "duration": 10,
    "start_time": "2023-01-16T08:55:16.101Z"
   },
   {
    "duration": 45,
    "start_time": "2023-01-16T08:55:20.523Z"
   },
   {
    "duration": 6276,
    "start_time": "2023-01-16T17:24:20.870Z"
   },
   {
    "duration": 7018,
    "start_time": "2023-01-18T08:53:11.441Z"
   },
   {
    "duration": 1695,
    "start_time": "2023-01-18T08:53:19.919Z"
   },
   {
    "duration": 94,
    "start_time": "2023-01-18T08:53:22.126Z"
   },
   {
    "duration": 13,
    "start_time": "2023-01-18T08:53:23.079Z"
   },
   {
    "duration": 13,
    "start_time": "2023-01-18T08:53:23.730Z"
   },
   {
    "duration": 14,
    "start_time": "2023-01-18T08:53:24.780Z"
   },
   {
    "duration": 9,
    "start_time": "2023-01-18T08:53:25.827Z"
   },
   {
    "duration": 12,
    "start_time": "2023-01-18T08:53:26.974Z"
   },
   {
    "duration": 3,
    "start_time": "2023-01-18T08:53:28.323Z"
   },
   {
    "duration": 40,
    "start_time": "2023-01-18T08:53:29.139Z"
   },
   {
    "duration": 7,
    "start_time": "2023-01-18T08:53:42.177Z"
   },
   {
    "duration": 6,
    "start_time": "2023-01-18T08:53:42.480Z"
   },
   {
    "duration": 6,
    "start_time": "2023-01-18T08:53:42.747Z"
   },
   {
    "duration": 2374,
    "start_time": "2023-01-18T08:53:43.720Z"
   },
   {
    "duration": 947,
    "start_time": "2023-01-18T08:53:46.096Z"
   },
   {
    "duration": 12,
    "start_time": "2023-01-18T08:54:08.895Z"
   },
   {
    "duration": 11,
    "start_time": "2023-01-18T08:54:36.422Z"
   },
   {
    "duration": 27,
    "start_time": "2023-01-18T08:54:37.578Z"
   },
   {
    "duration": 2400,
    "start_time": "2023-01-18T09:50:02.280Z"
   },
   {
    "duration": 1277,
    "start_time": "2023-01-18T09:50:04.683Z"
   },
   {
    "duration": 51,
    "start_time": "2023-01-18T09:50:05.963Z"
   },
   {
    "duration": 13,
    "start_time": "2023-01-18T09:50:06.286Z"
   },
   {
    "duration": 14,
    "start_time": "2023-01-18T09:50:06.945Z"
   },
   {
    "duration": 14,
    "start_time": "2023-01-18T09:50:08.037Z"
   },
   {
    "duration": 9,
    "start_time": "2023-01-18T09:50:09.118Z"
   },
   {
    "duration": 12,
    "start_time": "2023-01-18T09:50:09.732Z"
   },
   {
    "duration": 3,
    "start_time": "2023-01-18T09:50:10.507Z"
   },
   {
    "duration": 40,
    "start_time": "2023-01-18T09:50:11.080Z"
   },
   {
    "duration": 7,
    "start_time": "2023-01-18T09:50:12.508Z"
   },
   {
    "duration": 7,
    "start_time": "2023-01-18T09:50:12.781Z"
   },
   {
    "duration": 6,
    "start_time": "2023-01-18T09:50:13.112Z"
   },
   {
    "duration": 2483,
    "start_time": "2023-01-18T09:50:13.897Z"
   },
   {
    "duration": 939,
    "start_time": "2023-01-18T09:50:16.381Z"
   },
   {
    "duration": 12,
    "start_time": "2023-01-18T09:50:17.725Z"
   },
   {
    "duration": 9,
    "start_time": "2023-01-18T09:50:21.236Z"
   },
   {
    "duration": 29,
    "start_time": "2023-01-18T09:50:22.700Z"
   },
   {
    "duration": 10,
    "start_time": "2023-01-18T09:57:27.954Z"
   },
   {
    "duration": 74,
    "start_time": "2023-01-18T09:58:02.026Z"
   },
   {
    "duration": 8,
    "start_time": "2023-01-18T09:58:06.656Z"
   },
   {
    "duration": 44,
    "start_time": "2023-01-18T09:59:57.190Z"
   },
   {
    "duration": 115,
    "start_time": "2023-01-18T10:12:09.586Z"
   },
   {
    "duration": 34,
    "start_time": "2023-01-18T10:12:17.066Z"
   },
   {
    "duration": 3,
    "start_time": "2023-01-18T10:12:27.935Z"
   },
   {
    "duration": 4,
    "start_time": "2023-01-18T10:12:43.223Z"
   },
   {
    "duration": 5,
    "start_time": "2023-01-18T10:13:14.500Z"
   },
   {
    "duration": 6,
    "start_time": "2023-01-18T10:13:37.623Z"
   },
   {
    "duration": 3565,
    "start_time": "2023-01-18T10:20:18.516Z"
   },
   {
    "duration": 201590,
    "start_time": "2023-01-18T10:20:31.836Z"
   },
   {
    "duration": 3,
    "start_time": "2023-01-18T10:26:54.773Z"
   },
   {
    "duration": 289,
    "start_time": "2023-01-18T10:27:13.476Z"
   },
   {
    "duration": 281,
    "start_time": "2023-01-18T10:27:31.673Z"
   },
   {
    "duration": 1188768,
    "start_time": "2023-01-18T10:28:35.133Z"
   },
   {
    "duration": 251003,
    "start_time": "2023-01-18T10:48:37.802Z"
   },
   {
    "duration": 7,
    "start_time": "2023-01-18T10:59:46.035Z"
   },
   {
    "duration": 32216,
    "start_time": "2023-01-18T11:01:40.161Z"
   },
   {
    "duration": 8,
    "start_time": "2023-01-18T11:02:36.146Z"
   },
   {
    "duration": 31792,
    "start_time": "2023-01-18T11:02:39.901Z"
   },
   {
    "duration": 31785,
    "start_time": "2023-01-18T11:03:32.502Z"
   },
   {
    "duration": 3,
    "start_time": "2023-01-18T11:04:08.485Z"
   },
   {
    "duration": 281,
    "start_time": "2023-01-18T11:04:10.083Z"
   },
   {
    "duration": 8,
    "start_time": "2023-01-18T11:05:51.902Z"
   },
   {
    "duration": 128365,
    "start_time": "2023-01-18T11:07:06.205Z"
   },
   {
    "duration": 4,
    "start_time": "2023-01-18T11:11:36.105Z"
   },
   {
    "duration": 2090,
    "start_time": "2023-01-18T11:14:37.641Z"
   },
   {
    "duration": 1296,
    "start_time": "2023-01-18T11:14:39.734Z"
   },
   {
    "duration": 49,
    "start_time": "2023-01-18T11:14:41.032Z"
   },
   {
    "duration": 10,
    "start_time": "2023-01-18T11:14:41.083Z"
   },
   {
    "duration": 14,
    "start_time": "2023-01-18T11:14:41.094Z"
   },
   {
    "duration": 22,
    "start_time": "2023-01-18T11:14:41.110Z"
   },
   {
    "duration": 8,
    "start_time": "2023-01-18T11:14:41.134Z"
   },
   {
    "duration": 14,
    "start_time": "2023-01-18T11:14:41.570Z"
   },
   {
    "duration": 3,
    "start_time": "2023-01-18T11:14:41.993Z"
   },
   {
    "duration": 43,
    "start_time": "2023-01-18T11:14:42.443Z"
   },
   {
    "duration": 7,
    "start_time": "2023-01-18T11:14:43.091Z"
   },
   {
    "duration": 6,
    "start_time": "2023-01-18T11:14:43.320Z"
   },
   {
    "duration": 6,
    "start_time": "2023-01-18T11:14:43.526Z"
   },
   {
    "duration": 2410,
    "start_time": "2023-01-18T11:14:43.985Z"
   },
   {
    "duration": 888,
    "start_time": "2023-01-18T11:14:46.396Z"
   },
   {
    "duration": 11,
    "start_time": "2023-01-18T11:14:47.286Z"
   },
   {
    "duration": 10,
    "start_time": "2023-01-18T11:14:47.300Z"
   },
   {
    "duration": 28,
    "start_time": "2023-01-18T11:14:48.198Z"
   },
   {
    "duration": 9,
    "start_time": "2023-01-18T11:14:50.032Z"
   },
   {
    "duration": 7,
    "start_time": "2023-01-18T11:14:50.592Z"
   },
   {
    "duration": 127459,
    "start_time": "2023-01-18T11:14:50.816Z"
   },
   {
    "duration": 152462,
    "start_time": "2023-01-18T11:16:58.277Z"
   },
   {
    "duration": 32,
    "start_time": "2023-01-18T11:19:30.741Z"
   },
   {
    "duration": 4,
    "start_time": "2023-01-18T11:19:30.775Z"
   },
   {
    "duration": 22,
    "start_time": "2023-01-18T11:19:30.780Z"
   },
   {
    "duration": 13,
    "start_time": "2023-01-18T11:19:30.804Z"
   },
   {
    "duration": 10,
    "start_time": "2023-01-18T11:19:30.822Z"
   },
   {
    "duration": 79081,
    "start_time": "2023-01-18T11:19:30.834Z"
   },
   {
    "duration": 0,
    "start_time": "2023-01-18T11:20:49.917Z"
   },
   {
    "duration": 0,
    "start_time": "2023-01-18T11:20:49.918Z"
   },
   {
    "duration": 0,
    "start_time": "2023-01-18T11:20:49.922Z"
   },
   {
    "duration": 2098,
    "start_time": "2023-01-18T11:21:05.066Z"
   },
   {
    "duration": 1246,
    "start_time": "2023-01-18T11:21:07.167Z"
   },
   {
    "duration": 51,
    "start_time": "2023-01-18T11:21:08.414Z"
   },
   {
    "duration": 10,
    "start_time": "2023-01-18T11:21:08.467Z"
   },
   {
    "duration": 12,
    "start_time": "2023-01-18T11:21:08.479Z"
   },
   {
    "duration": 14,
    "start_time": "2023-01-18T11:21:08.492Z"
   },
   {
    "duration": 20,
    "start_time": "2023-01-18T11:21:08.507Z"
   },
   {
    "duration": 11,
    "start_time": "2023-01-18T11:21:08.528Z"
   },
   {
    "duration": 2,
    "start_time": "2023-01-18T11:21:08.541Z"
   },
   {
    "duration": 41,
    "start_time": "2023-01-18T11:21:08.545Z"
   },
   {
    "duration": 7,
    "start_time": "2023-01-18T11:21:08.587Z"
   },
   {
    "duration": 6,
    "start_time": "2023-01-18T11:21:08.623Z"
   },
   {
    "duration": 10,
    "start_time": "2023-01-18T11:21:08.630Z"
   },
   {
    "duration": 2301,
    "start_time": "2023-01-18T11:21:08.641Z"
   },
   {
    "duration": 896,
    "start_time": "2023-01-18T11:21:10.943Z"
   },
   {
    "duration": 16,
    "start_time": "2023-01-18T11:21:11.842Z"
   },
   {
    "duration": 25,
    "start_time": "2023-01-18T11:21:11.861Z"
   },
   {
    "duration": 28,
    "start_time": "2023-01-18T11:21:11.888Z"
   },
   {
    "duration": 8,
    "start_time": "2023-01-18T11:21:11.918Z"
   },
   {
    "duration": 7,
    "start_time": "2023-01-18T11:21:11.928Z"
   },
   {
    "duration": 126698,
    "start_time": "2023-01-18T11:21:11.936Z"
   },
   {
    "duration": 195888,
    "start_time": "2023-01-18T11:23:18.636Z"
   },
   {
    "duration": 30,
    "start_time": "2023-01-18T11:26:34.527Z"
   },
   {
    "duration": 3,
    "start_time": "2023-01-18T11:26:34.559Z"
   },
   {
    "duration": 10,
    "start_time": "2023-01-18T11:26:34.564Z"
   },
   {
    "duration": 8,
    "start_time": "2023-01-18T11:26:34.575Z"
   },
   {
    "duration": 22,
    "start_time": "2023-01-18T11:26:34.584Z"
   },
   {
    "duration": 2111,
    "start_time": "2023-01-18T11:42:42.845Z"
   },
   {
    "duration": 4,
    "start_time": "2023-01-18T11:42:44.959Z"
   },
   {
    "duration": 46,
    "start_time": "2023-01-18T11:42:45.487Z"
   },
   {
    "duration": 2106,
    "start_time": "2023-01-18T11:42:50.301Z"
   },
   {
    "duration": 1433,
    "start_time": "2023-01-18T11:42:53.711Z"
   },
   {
    "duration": 51,
    "start_time": "2023-01-18T11:42:55.716Z"
   },
   {
    "duration": 11,
    "start_time": "2023-01-18T11:42:56.920Z"
   },
   {
    "duration": 13,
    "start_time": "2023-01-18T11:42:57.432Z"
   },
   {
    "duration": 12,
    "start_time": "2023-01-18T11:42:58.011Z"
   },
   {
    "duration": 9,
    "start_time": "2023-01-18T11:42:58.599Z"
   },
   {
    "duration": 15,
    "start_time": "2023-01-18T11:42:59.001Z"
   },
   {
    "duration": 3,
    "start_time": "2023-01-18T11:42:59.403Z"
   },
   {
    "duration": 43,
    "start_time": "2023-01-18T11:42:59.778Z"
   },
   {
    "duration": 7,
    "start_time": "2023-01-18T11:43:00.389Z"
   },
   {
    "duration": 6,
    "start_time": "2023-01-18T11:43:00.588Z"
   },
   {
    "duration": 6,
    "start_time": "2023-01-18T11:43:00.824Z"
   },
   {
    "duration": 2617,
    "start_time": "2023-01-18T11:43:01.293Z"
   },
   {
    "duration": 1083,
    "start_time": "2023-01-18T11:43:03.912Z"
   },
   {
    "duration": 16,
    "start_time": "2023-01-18T11:43:05.967Z"
   },
   {
    "duration": 10,
    "start_time": "2023-01-18T11:43:07.363Z"
   },
   {
    "duration": 32,
    "start_time": "2023-01-18T11:43:09.085Z"
   },
   {
    "duration": 9,
    "start_time": "2023-01-18T11:43:11.478Z"
   },
   {
    "duration": 7,
    "start_time": "2023-01-18T11:43:12.788Z"
   },
   {
    "duration": 128661,
    "start_time": "2023-01-18T11:43:14.125Z"
   },
   {
    "duration": 199587,
    "start_time": "2023-01-18T11:45:22.788Z"
   },
   {
    "duration": 45,
    "start_time": "2023-01-18T11:48:42.377Z"
   },
   {
    "duration": 4,
    "start_time": "2023-01-18T11:48:42.424Z"
   },
   {
    "duration": 9,
    "start_time": "2023-01-18T11:48:42.430Z"
   },
   {
    "duration": 5,
    "start_time": "2023-01-18T11:48:42.441Z"
   },
   {
    "duration": 9,
    "start_time": "2023-01-18T11:48:42.448Z"
   },
   {
    "duration": 90255,
    "start_time": "2023-01-18T11:48:42.458Z"
   },
   {
    "duration": 4,
    "start_time": "2023-01-18T11:50:12.722Z"
   },
   {
    "duration": 296,
    "start_time": "2023-01-18T11:50:12.729Z"
   },
   {
    "duration": 3,
    "start_time": "2023-01-18T11:53:01.805Z"
   },
   {
    "duration": 286,
    "start_time": "2023-01-18T11:53:38.827Z"
   },
   {
    "duration": 395,
    "start_time": "2023-01-18T11:58:29.182Z"
   },
   {
    "duration": 4,
    "start_time": "2023-01-18T11:58:37.797Z"
   },
   {
    "duration": 294,
    "start_time": "2023-01-18T11:58:49.135Z"
   },
   {
    "duration": 2109,
    "start_time": "2023-01-18T12:02:59.392Z"
   },
   {
    "duration": 1327,
    "start_time": "2023-01-18T12:03:01.504Z"
   },
   {
    "duration": 51,
    "start_time": "2023-01-18T12:03:02.833Z"
   },
   {
    "duration": 12,
    "start_time": "2023-01-18T12:03:02.886Z"
   },
   {
    "duration": 14,
    "start_time": "2023-01-18T12:03:02.900Z"
   },
   {
    "duration": 12,
    "start_time": "2023-01-18T12:03:03.788Z"
   },
   {
    "duration": 9,
    "start_time": "2023-01-18T12:03:04.903Z"
   },
   {
    "duration": 11,
    "start_time": "2023-01-18T12:03:05.602Z"
   },
   {
    "duration": 3,
    "start_time": "2023-01-18T12:03:06.308Z"
   },
   {
    "duration": 43,
    "start_time": "2023-01-18T12:03:06.818Z"
   },
   {
    "duration": 8,
    "start_time": "2023-01-18T12:03:07.523Z"
   },
   {
    "duration": 7,
    "start_time": "2023-01-18T12:03:07.785Z"
   },
   {
    "duration": 7,
    "start_time": "2023-01-18T12:03:08.040Z"
   },
   {
    "duration": 2406,
    "start_time": "2023-01-18T12:03:08.568Z"
   },
   {
    "duration": 960,
    "start_time": "2023-01-18T12:03:10.976Z"
   },
   {
    "duration": 12,
    "start_time": "2023-01-18T12:03:11.938Z"
   },
   {
    "duration": 10,
    "start_time": "2023-01-18T12:03:13.688Z"
   },
   {
    "duration": 27,
    "start_time": "2023-01-18T12:03:14.330Z"
   },
   {
    "duration": 9,
    "start_time": "2023-01-18T12:03:15.629Z"
   },
   {
    "duration": 7,
    "start_time": "2023-01-18T12:03:16.385Z"
   },
   {
    "duration": 128384,
    "start_time": "2023-01-18T12:03:17.245Z"
   },
   {
    "duration": 200651,
    "start_time": "2023-01-18T12:05:25.631Z"
   },
   {
    "duration": 39,
    "start_time": "2023-01-18T12:08:46.283Z"
   },
   {
    "duration": 4,
    "start_time": "2023-01-18T12:08:46.325Z"
   },
   {
    "duration": 9,
    "start_time": "2023-01-18T12:08:46.330Z"
   },
   {
    "duration": 6,
    "start_time": "2023-01-18T12:08:46.340Z"
   },
   {
    "duration": 9,
    "start_time": "2023-01-18T12:08:46.348Z"
   },
   {
    "duration": 91553,
    "start_time": "2023-01-18T12:08:46.358Z"
   },
   {
    "duration": 9,
    "start_time": "2023-01-18T12:10:17.913Z"
   },
   {
    "duration": 285,
    "start_time": "2023-01-18T12:10:17.924Z"
   },
   {
    "duration": 7084,
    "start_time": "2023-01-18T14:26:23.220Z"
   },
   {
    "duration": 1375,
    "start_time": "2023-01-18T14:26:30.306Z"
   },
   {
    "duration": 179,
    "start_time": "2023-01-18T14:26:31.683Z"
   },
   {
    "duration": 10,
    "start_time": "2023-01-18T14:26:31.864Z"
   },
   {
    "duration": 18,
    "start_time": "2023-01-18T14:26:31.876Z"
   },
   {
    "duration": 21,
    "start_time": "2023-01-18T14:26:31.896Z"
   },
   {
    "duration": 16,
    "start_time": "2023-01-18T14:26:31.918Z"
   },
   {
    "duration": 30,
    "start_time": "2023-01-18T14:26:31.935Z"
   },
   {
    "duration": 7,
    "start_time": "2023-01-18T14:26:31.967Z"
   },
   {
    "duration": 44,
    "start_time": "2023-01-18T14:26:31.976Z"
   },
   {
    "duration": 6,
    "start_time": "2023-01-18T14:26:32.022Z"
   },
   {
    "duration": 17,
    "start_time": "2023-01-18T14:26:32.030Z"
   },
   {
    "duration": 7,
    "start_time": "2023-01-18T14:26:32.048Z"
   },
   {
    "duration": 2090,
    "start_time": "2023-01-18T14:26:32.056Z"
   },
   {
    "duration": 877,
    "start_time": "2023-01-18T14:26:34.148Z"
   },
   {
    "duration": 14,
    "start_time": "2023-01-18T14:26:35.027Z"
   },
   {
    "duration": 15,
    "start_time": "2023-01-18T14:26:35.043Z"
   },
   {
    "duration": 45,
    "start_time": "2023-01-18T14:26:35.061Z"
   },
   {
    "duration": 11,
    "start_time": "2023-01-18T14:26:35.109Z"
   },
   {
    "duration": 13,
    "start_time": "2023-01-18T14:26:35.122Z"
   },
   {
    "duration": 119429,
    "start_time": "2023-01-18T14:26:35.143Z"
   },
   {
    "duration": 185455,
    "start_time": "2023-01-18T14:28:34.574Z"
   },
   {
    "duration": 41,
    "start_time": "2023-01-18T14:31:40.031Z"
   },
   {
    "duration": 4,
    "start_time": "2023-01-18T14:31:40.073Z"
   },
   {
    "duration": 20,
    "start_time": "2023-01-18T14:31:40.079Z"
   },
   {
    "duration": 29,
    "start_time": "2023-01-18T14:31:40.102Z"
   },
   {
    "duration": 20,
    "start_time": "2023-01-18T14:31:40.133Z"
   },
   {
    "duration": 86692,
    "start_time": "2023-01-18T14:31:40.156Z"
   },
   {
    "duration": 4,
    "start_time": "2023-01-18T14:33:06.850Z"
   },
   {
    "duration": 298,
    "start_time": "2023-01-18T14:33:06.856Z"
   },
   {
    "duration": 16,
    "start_time": "2023-01-18T14:46:34.207Z"
   },
   {
    "duration": 857,
    "start_time": "2023-01-18T14:47:32.033Z"
   },
   {
    "duration": 7114,
    "start_time": "2023-01-18T14:55:27.455Z"
   },
   {
    "duration": 1535,
    "start_time": "2023-01-18T14:55:34.571Z"
   },
   {
    "duration": 208,
    "start_time": "2023-01-18T14:55:36.108Z"
   },
   {
    "duration": 17,
    "start_time": "2023-01-18T14:55:36.318Z"
   },
   {
    "duration": 42,
    "start_time": "2023-01-18T14:55:36.337Z"
   },
   {
    "duration": 31,
    "start_time": "2023-01-18T14:55:36.381Z"
   },
   {
    "duration": 12,
    "start_time": "2023-01-18T14:55:36.414Z"
   },
   {
    "duration": 18,
    "start_time": "2023-01-18T14:55:36.428Z"
   },
   {
    "duration": 4,
    "start_time": "2023-01-18T14:55:36.448Z"
   },
   {
    "duration": 42,
    "start_time": "2023-01-18T14:55:36.751Z"
   },
   {
    "duration": 7,
    "start_time": "2023-01-18T14:55:41.244Z"
   },
   {
    "duration": 6,
    "start_time": "2023-01-18T14:55:41.480Z"
   },
   {
    "duration": 7,
    "start_time": "2023-01-18T14:55:42.002Z"
   },
   {
    "duration": 2504,
    "start_time": "2023-01-18T14:55:42.466Z"
   },
   {
    "duration": 997,
    "start_time": "2023-01-18T14:55:44.972Z"
   },
   {
    "duration": 13,
    "start_time": "2023-01-18T14:55:45.972Z"
   },
   {
    "duration": 10,
    "start_time": "2023-01-18T14:55:53.716Z"
   },
   {
    "duration": 31,
    "start_time": "2023-01-18T14:55:54.677Z"
   },
   {
    "duration": 2148,
    "start_time": "2023-01-18T14:57:48.397Z"
   },
   {
    "duration": 1405,
    "start_time": "2023-01-18T14:57:50.547Z"
   },
   {
    "duration": 57,
    "start_time": "2023-01-18T14:57:51.954Z"
   },
   {
    "duration": 12,
    "start_time": "2023-01-18T14:57:52.013Z"
   },
   {
    "duration": 21,
    "start_time": "2023-01-18T14:57:52.026Z"
   },
   {
    "duration": 37,
    "start_time": "2023-01-18T14:57:52.050Z"
   },
   {
    "duration": 8,
    "start_time": "2023-01-18T14:57:52.090Z"
   },
   {
    "duration": 13,
    "start_time": "2023-01-18T14:57:52.392Z"
   },
   {
    "duration": 3,
    "start_time": "2023-01-18T14:57:53.373Z"
   },
   {
    "duration": 43,
    "start_time": "2023-01-18T14:57:53.870Z"
   },
   {
    "duration": 8,
    "start_time": "2023-01-18T14:57:55.048Z"
   },
   {
    "duration": 7,
    "start_time": "2023-01-18T14:57:55.313Z"
   },
   {
    "duration": 6,
    "start_time": "2023-01-18T14:57:55.594Z"
   },
   {
    "duration": 2647,
    "start_time": "2023-01-18T14:57:56.206Z"
   },
   {
    "duration": 946,
    "start_time": "2023-01-18T14:57:58.855Z"
   },
   {
    "duration": 13,
    "start_time": "2023-01-18T14:57:59.881Z"
   },
   {
    "duration": 11,
    "start_time": "2023-01-18T14:58:03.079Z"
   },
   {
    "duration": 30,
    "start_time": "2023-01-18T14:58:04.657Z"
   },
   {
    "duration": 10,
    "start_time": "2023-01-18T14:58:12.774Z"
   },
   {
    "duration": 8,
    "start_time": "2023-01-18T14:58:23.189Z"
   },
   {
    "duration": 11,
    "start_time": "2023-01-18T15:13:53.691Z"
   },
   {
    "duration": 118,
    "start_time": "2023-01-18T15:16:38.724Z"
   },
   {
    "duration": 8,
    "start_time": "2023-01-18T15:18:17.874Z"
   },
   {
    "duration": 2016,
    "start_time": "2023-01-18T15:18:49.740Z"
   },
   {
    "duration": 1290,
    "start_time": "2023-01-18T15:18:51.758Z"
   },
   {
    "duration": 56,
    "start_time": "2023-01-18T15:18:53.050Z"
   },
   {
    "duration": 11,
    "start_time": "2023-01-18T15:18:53.108Z"
   },
   {
    "duration": 12,
    "start_time": "2023-01-18T15:18:53.121Z"
   },
   {
    "duration": 16,
    "start_time": "2023-01-18T15:18:53.135Z"
   },
   {
    "duration": 33,
    "start_time": "2023-01-18T15:18:53.153Z"
   },
   {
    "duration": 13,
    "start_time": "2023-01-18T15:18:53.508Z"
   },
   {
    "duration": 4,
    "start_time": "2023-01-18T15:18:53.780Z"
   },
   {
    "duration": 36,
    "start_time": "2023-01-18T15:18:54.139Z"
   },
   {
    "duration": 7,
    "start_time": "2023-01-18T15:18:54.688Z"
   },
   {
    "duration": 6,
    "start_time": "2023-01-18T15:18:54.876Z"
   },
   {
    "duration": 6,
    "start_time": "2023-01-18T15:18:55.074Z"
   },
   {
    "duration": 2340,
    "start_time": "2023-01-18T15:18:55.451Z"
   },
   {
    "duration": 876,
    "start_time": "2023-01-18T15:18:57.793Z"
   },
   {
    "duration": 13,
    "start_time": "2023-01-18T15:18:58.670Z"
   },
   {
    "duration": 9,
    "start_time": "2023-01-18T15:18:58.685Z"
   },
   {
    "duration": 25,
    "start_time": "2023-01-18T15:18:58.696Z"
   },
   {
    "duration": 9,
    "start_time": "2023-01-18T15:18:59.923Z"
   },
   {
    "duration": 9,
    "start_time": "2023-01-18T15:19:00.387Z"
   },
   {
    "duration": 344250,
    "start_time": "2023-01-18T15:19:00.603Z"
   },
   {
    "duration": 0,
    "start_time": "2023-01-18T15:24:44.856Z"
   },
   {
    "duration": 0,
    "start_time": "2023-01-18T15:24:44.857Z"
   },
   {
    "duration": 0,
    "start_time": "2023-01-18T15:24:44.859Z"
   },
   {
    "duration": 0,
    "start_time": "2023-01-18T15:24:44.860Z"
   },
   {
    "duration": 0,
    "start_time": "2023-01-18T15:24:44.861Z"
   },
   {
    "duration": 0,
    "start_time": "2023-01-18T15:24:44.863Z"
   },
   {
    "duration": 0,
    "start_time": "2023-01-18T15:24:44.882Z"
   },
   {
    "duration": 0,
    "start_time": "2023-01-18T15:24:44.883Z"
   },
   {
    "duration": 0,
    "start_time": "2023-01-18T15:24:44.884Z"
   },
   {
    "duration": 2117,
    "start_time": "2023-01-18T15:25:43.543Z"
   },
   {
    "duration": 1393,
    "start_time": "2023-01-18T15:25:45.662Z"
   },
   {
    "duration": 64,
    "start_time": "2023-01-18T15:25:47.056Z"
   },
   {
    "duration": 11,
    "start_time": "2023-01-18T15:25:47.122Z"
   },
   {
    "duration": 25,
    "start_time": "2023-01-18T15:25:47.135Z"
   },
   {
    "duration": 23,
    "start_time": "2023-01-18T15:25:47.163Z"
   },
   {
    "duration": 11,
    "start_time": "2023-01-18T15:25:47.188Z"
   },
   {
    "duration": 17,
    "start_time": "2023-01-18T15:25:47.201Z"
   },
   {
    "duration": 3,
    "start_time": "2023-01-18T15:25:47.220Z"
   },
   {
    "duration": 67,
    "start_time": "2023-01-18T15:25:47.226Z"
   },
   {
    "duration": 7,
    "start_time": "2023-01-18T15:25:47.295Z"
   },
   {
    "duration": 8,
    "start_time": "2023-01-18T15:25:47.303Z"
   },
   {
    "duration": 7,
    "start_time": "2023-01-18T15:25:47.312Z"
   },
   {
    "duration": 2495,
    "start_time": "2023-01-18T15:25:47.321Z"
   },
   {
    "duration": 1038,
    "start_time": "2023-01-18T15:25:49.819Z"
   },
   {
    "duration": 13,
    "start_time": "2023-01-18T15:25:50.859Z"
   },
   {
    "duration": 10,
    "start_time": "2023-01-18T15:25:50.873Z"
   },
   {
    "duration": 27,
    "start_time": "2023-01-18T15:25:50.885Z"
   },
   {
    "duration": 9,
    "start_time": "2023-01-18T15:25:50.913Z"
   },
   {
    "duration": 9,
    "start_time": "2023-01-18T15:25:50.924Z"
   },
   {
    "duration": 26701,
    "start_time": "2023-01-18T15:25:50.934Z"
   },
   {
    "duration": 0,
    "start_time": "2023-01-18T15:26:17.637Z"
   },
   {
    "duration": 0,
    "start_time": "2023-01-18T15:26:17.638Z"
   },
   {
    "duration": 0,
    "start_time": "2023-01-18T15:26:17.639Z"
   },
   {
    "duration": 0,
    "start_time": "2023-01-18T15:26:17.640Z"
   },
   {
    "duration": 0,
    "start_time": "2023-01-18T15:26:17.641Z"
   },
   {
    "duration": 0,
    "start_time": "2023-01-18T15:26:17.642Z"
   },
   {
    "duration": 0,
    "start_time": "2023-01-18T15:26:17.643Z"
   },
   {
    "duration": 0,
    "start_time": "2023-01-18T15:26:17.644Z"
   },
   {
    "duration": 0,
    "start_time": "2023-01-18T15:26:17.645Z"
   },
   {
    "duration": 2087,
    "start_time": "2023-01-18T15:26:25.117Z"
   },
   {
    "duration": 1271,
    "start_time": "2023-01-18T15:26:27.206Z"
   },
   {
    "duration": 55,
    "start_time": "2023-01-18T15:26:28.478Z"
   },
   {
    "duration": 10,
    "start_time": "2023-01-18T15:26:28.536Z"
   },
   {
    "duration": 14,
    "start_time": "2023-01-18T15:26:28.547Z"
   },
   {
    "duration": 13,
    "start_time": "2023-01-18T15:26:28.562Z"
   },
   {
    "duration": 7,
    "start_time": "2023-01-18T15:26:28.581Z"
   },
   {
    "duration": 10,
    "start_time": "2023-01-18T15:26:28.590Z"
   },
   {
    "duration": 3,
    "start_time": "2023-01-18T15:26:28.602Z"
   },
   {
    "duration": 47,
    "start_time": "2023-01-18T15:26:28.607Z"
   },
   {
    "duration": 7,
    "start_time": "2023-01-18T15:26:28.656Z"
   },
   {
    "duration": 6,
    "start_time": "2023-01-18T15:26:28.682Z"
   },
   {
    "duration": 11,
    "start_time": "2023-01-18T15:26:28.690Z"
   },
   {
    "duration": 2397,
    "start_time": "2023-01-18T15:26:28.703Z"
   },
   {
    "duration": 883,
    "start_time": "2023-01-18T15:26:31.102Z"
   },
   {
    "duration": 12,
    "start_time": "2023-01-18T15:26:31.987Z"
   },
   {
    "duration": 10,
    "start_time": "2023-01-18T15:26:32.001Z"
   },
   {
    "duration": 27,
    "start_time": "2023-01-18T15:26:32.012Z"
   },
   {
    "duration": 8,
    "start_time": "2023-01-18T15:26:32.041Z"
   },
   {
    "duration": 31,
    "start_time": "2023-01-18T15:26:32.050Z"
   },
   {
    "duration": 47281,
    "start_time": "2023-01-18T15:26:32.083Z"
   },
   {
    "duration": 47497,
    "start_time": "2023-01-18T15:27:19.366Z"
   },
   {
    "duration": 37,
    "start_time": "2023-01-18T15:28:06.864Z"
   },
   {
    "duration": 5,
    "start_time": "2023-01-18T15:28:06.903Z"
   },
   {
    "duration": 9,
    "start_time": "2023-01-18T15:28:06.910Z"
   },
   {
    "duration": 8,
    "start_time": "2023-01-18T15:28:06.920Z"
   },
   {
    "duration": 13,
    "start_time": "2023-01-18T15:28:06.930Z"
   },
   {
    "duration": 66192,
    "start_time": "2023-01-18T15:28:06.946Z"
   },
   {
    "duration": 3,
    "start_time": "2023-01-18T15:29:13.140Z"
   },
   {
    "duration": 1056,
    "start_time": "2023-01-18T15:29:13.145Z"
   },
   {
    "duration": 2332,
    "start_time": "2023-01-18T15:30:38.056Z"
   },
   {
    "duration": 2432,
    "start_time": "2023-01-18T15:32:25.559Z"
   },
   {
    "duration": 2386,
    "start_time": "2023-01-18T15:33:09.898Z"
   },
   {
    "duration": 2406,
    "start_time": "2023-01-18T15:33:19.851Z"
   },
   {
    "duration": 134821,
    "start_time": "2023-01-18T15:33:46.324Z"
   },
   {
    "duration": 3,
    "start_time": "2023-01-18T15:36:01.147Z"
   },
   {
    "duration": 1794,
    "start_time": "2023-01-18T15:36:01.153Z"
   },
   {
    "duration": 4,
    "start_time": "2023-01-18T15:36:31.116Z"
   },
   {
    "duration": 1763,
    "start_time": "2023-01-18T15:36:33.358Z"
   },
   {
    "duration": 338454,
    "start_time": "2023-01-18T15:37:12.815Z"
   },
   {
    "duration": 4,
    "start_time": "2023-01-18T15:42:55.184Z"
   },
   {
    "duration": 1806,
    "start_time": "2023-01-18T15:42:56.617Z"
   },
   {
    "duration": 36813,
    "start_time": "2023-01-18T15:43:22.295Z"
   },
   {
    "duration": 3,
    "start_time": "2023-01-18T15:43:59.110Z"
   },
   {
    "duration": 2583,
    "start_time": "2023-01-18T15:43:59.114Z"
   },
   {
    "duration": 51554,
    "start_time": "2023-01-18T15:44:56.288Z"
   },
   {
    "duration": 3,
    "start_time": "2023-01-18T15:45:47.844Z"
   },
   {
    "duration": 2443,
    "start_time": "2023-01-18T15:45:47.849Z"
   },
   {
    "duration": 135939,
    "start_time": "2023-01-18T15:46:53.466Z"
   },
   {
    "duration": 3,
    "start_time": "2023-01-18T15:49:09.407Z"
   },
   {
    "duration": 2724,
    "start_time": "2023-01-18T15:49:09.411Z"
   },
   {
    "duration": 157988,
    "start_time": "2023-01-18T15:50:01.374Z"
   },
   {
    "duration": 3,
    "start_time": "2023-01-18T15:52:39.364Z"
   },
   {
    "duration": 2497,
    "start_time": "2023-01-18T15:52:39.369Z"
   },
   {
    "duration": 2168,
    "start_time": "2023-01-18T15:54:42.653Z"
   },
   {
    "duration": 1283,
    "start_time": "2023-01-18T15:54:44.824Z"
   },
   {
    "duration": 70,
    "start_time": "2023-01-18T15:54:46.109Z"
   },
   {
    "duration": 13,
    "start_time": "2023-01-18T15:54:46.181Z"
   },
   {
    "duration": 14,
    "start_time": "2023-01-18T15:54:46.196Z"
   },
   {
    "duration": 15,
    "start_time": "2023-01-18T15:54:46.212Z"
   },
   {
    "duration": 8,
    "start_time": "2023-01-18T15:54:46.229Z"
   },
   {
    "duration": 43,
    "start_time": "2023-01-18T15:54:46.239Z"
   },
   {
    "duration": 3,
    "start_time": "2023-01-18T15:54:46.284Z"
   },
   {
    "duration": 48,
    "start_time": "2023-01-18T15:54:46.289Z"
   },
   {
    "duration": 7,
    "start_time": "2023-01-18T15:54:46.339Z"
   },
   {
    "duration": 9,
    "start_time": "2023-01-18T15:54:46.347Z"
   },
   {
    "duration": 28,
    "start_time": "2023-01-18T15:54:46.357Z"
   },
   {
    "duration": 2635,
    "start_time": "2023-01-18T15:54:46.387Z"
   },
   {
    "duration": 953,
    "start_time": "2023-01-18T15:54:49.024Z"
   },
   {
    "duration": 14,
    "start_time": "2023-01-18T15:54:49.980Z"
   },
   {
    "duration": 13,
    "start_time": "2023-01-18T15:54:49.998Z"
   },
   {
    "duration": 31,
    "start_time": "2023-01-18T15:54:50.013Z"
   },
   {
    "duration": 36,
    "start_time": "2023-01-18T15:54:50.046Z"
   },
   {
    "duration": 9,
    "start_time": "2023-01-18T15:54:50.085Z"
   },
   {
    "duration": 20918,
    "start_time": "2023-01-18T15:54:50.097Z"
   },
   {
    "duration": 0,
    "start_time": "2023-01-18T15:55:11.017Z"
   },
   {
    "duration": 0,
    "start_time": "2023-01-18T15:55:11.018Z"
   },
   {
    "duration": 0,
    "start_time": "2023-01-18T15:55:11.020Z"
   },
   {
    "duration": 0,
    "start_time": "2023-01-18T15:55:11.021Z"
   },
   {
    "duration": 0,
    "start_time": "2023-01-18T15:55:11.022Z"
   },
   {
    "duration": 0,
    "start_time": "2023-01-18T15:55:11.023Z"
   },
   {
    "duration": 0,
    "start_time": "2023-01-18T15:55:11.024Z"
   },
   {
    "duration": 0,
    "start_time": "2023-01-18T15:55:11.025Z"
   },
   {
    "duration": 0,
    "start_time": "2023-01-18T15:55:11.026Z"
   },
   {
    "duration": 2183,
    "start_time": "2023-01-18T15:55:38.284Z"
   },
   {
    "duration": 1404,
    "start_time": "2023-01-18T15:55:40.469Z"
   },
   {
    "duration": 58,
    "start_time": "2023-01-18T15:55:41.875Z"
   },
   {
    "duration": 11,
    "start_time": "2023-01-18T15:55:41.935Z"
   },
   {
    "duration": 20,
    "start_time": "2023-01-18T15:55:41.949Z"
   },
   {
    "duration": 27,
    "start_time": "2023-01-18T15:55:41.971Z"
   },
   {
    "duration": 9,
    "start_time": "2023-01-18T15:55:42.000Z"
   },
   {
    "duration": 14,
    "start_time": "2023-01-18T15:55:42.011Z"
   },
   {
    "duration": 3,
    "start_time": "2023-01-18T15:55:42.027Z"
   },
   {
    "duration": 67,
    "start_time": "2023-01-18T15:55:42.031Z"
   },
   {
    "duration": 8,
    "start_time": "2023-01-18T15:55:42.099Z"
   },
   {
    "duration": 15,
    "start_time": "2023-01-18T15:55:42.108Z"
   },
   {
    "duration": 10,
    "start_time": "2023-01-18T15:55:42.125Z"
   },
   {
    "duration": 2573,
    "start_time": "2023-01-18T15:55:42.138Z"
   },
   {
    "duration": 944,
    "start_time": "2023-01-18T15:55:44.713Z"
   },
   {
    "duration": 14,
    "start_time": "2023-01-18T15:55:45.659Z"
   },
   {
    "duration": 11,
    "start_time": "2023-01-18T15:55:45.675Z"
   },
   {
    "duration": 29,
    "start_time": "2023-01-18T15:55:45.688Z"
   },
   {
    "duration": 9,
    "start_time": "2023-01-18T15:55:45.720Z"
   },
   {
    "duration": 8,
    "start_time": "2023-01-18T15:55:45.732Z"
   },
   {
    "duration": 110816,
    "start_time": "2023-01-18T15:55:45.742Z"
   },
   {
    "duration": 109790,
    "start_time": "2023-01-18T15:57:36.560Z"
   },
   {
    "duration": 39,
    "start_time": "2023-01-18T15:59:26.352Z"
   },
   {
    "duration": 4,
    "start_time": "2023-01-18T15:59:26.393Z"
   },
   {
    "duration": 20,
    "start_time": "2023-01-18T15:59:26.398Z"
   },
   {
    "duration": 13,
    "start_time": "2023-01-18T15:59:26.420Z"
   },
   {
    "duration": 12,
    "start_time": "2023-01-18T15:59:26.435Z"
   },
   {
    "duration": 159024,
    "start_time": "2023-01-18T15:59:26.448Z"
   },
   {
    "duration": 4,
    "start_time": "2023-01-18T16:02:05.474Z"
   },
   {
    "duration": 2600,
    "start_time": "2023-01-18T16:02:05.482Z"
   },
   {
    "duration": 236334,
    "start_time": "2023-01-18T16:05:38.006Z"
   },
   {
    "duration": 3,
    "start_time": "2023-01-18T16:09:34.343Z"
   },
   {
    "duration": 2552,
    "start_time": "2023-01-18T16:09:34.347Z"
   },
   {
    "duration": 57,
    "start_time": "2023-01-19T09:41:03.894Z"
   },
   {
    "duration": 7011,
    "start_time": "2023-01-19T09:41:09.613Z"
   },
   {
    "duration": 1396,
    "start_time": "2023-01-19T09:41:16.626Z"
   },
   {
    "duration": 168,
    "start_time": "2023-01-19T09:41:18.024Z"
   },
   {
    "duration": 89,
    "start_time": "2023-01-19T09:41:56.322Z"
   }
  ],
  "kernelspec": {
   "display_name": "Python 3 (ipykernel)",
   "language": "python",
   "name": "python3"
  },
  "language_info": {
   "codemirror_mode": {
    "name": "ipython",
    "version": 3
   },
   "file_extension": ".py",
   "mimetype": "text/x-python",
   "name": "python",
   "nbconvert_exporter": "python",
   "pygments_lexer": "ipython3",
   "version": "3.10.6"
  },
  "toc": {
   "base_numbering": 1,
   "nav_menu": {},
   "number_sections": true,
   "sideBar": true,
   "skip_h1_title": true,
   "title_cell": "Содержание",
   "title_sidebar": "Contents",
   "toc_cell": true,
   "toc_position": {},
   "toc_section_display": true,
   "toc_window_display": false
  }
 },
 "nbformat": 4,
 "nbformat_minor": 4
}
